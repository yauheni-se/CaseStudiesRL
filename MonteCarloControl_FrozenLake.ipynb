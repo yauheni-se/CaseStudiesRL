{
 "cells": [
  {
   "cell_type": "markdown",
   "id": "c02416a9",
   "metadata": {
    "heading_collapsed": true
   },
   "source": [
    "# Presets"
   ]
  },
  {
   "cell_type": "code",
   "execution_count": 1,
   "id": "c0229148",
   "metadata": {
    "ExecuteTime": {
     "end_time": "2023-04-09T17:40:35.839000+02:00",
     "start_time": "2023-04-09T15:40:32.251Z"
    },
    "hidden": true
   },
   "outputs": [],
   "source": [
    "using PyPlot"
   ]
  },
  {
   "cell_type": "code",
   "execution_count": 2,
   "id": "79c65645",
   "metadata": {
    "ExecuteTime": {
     "end_time": "2023-04-09T17:40:38.021000+02:00",
     "start_time": "2023-04-09T15:40:32.253Z"
    },
    "hidden": true
   },
   "outputs": [],
   "source": [
    "using Random"
   ]
  },
  {
   "cell_type": "code",
   "execution_count": 3,
   "id": "c6a9bd7f",
   "metadata": {
    "ExecuteTime": {
     "end_time": "2023-04-09T17:40:58.381000+02:00",
     "start_time": "2023-04-09T15:40:32.255Z"
    },
    "hidden": true
   },
   "outputs": [],
   "source": [
    "using ReinforcementLearning "
   ]
  },
  {
   "cell_type": "code",
   "execution_count": 4,
   "id": "7257e580",
   "metadata": {
    "ExecuteTime": {
     "end_time": "2023-04-09T17:40:59.035000+02:00",
     "start_time": "2023-04-09T15:40:32.256Z"
    },
    "hidden": true
   },
   "outputs": [],
   "source": [
    "arrows = Dict(1 => '⇐', 2 => '⇓', 3 => '⇒', 4 => '⇑');\n",
    "\n",
    "grid4x4= ['S' 'F' 'F' 'F';\n",
    "        'F' 'H' 'F' 'H';\n",
    "        'F' 'F' 'F' 'H';\n",
    "        'H' 'F' 'F' 'G'];\n",
    "\n",
    "grid8x8 =['S' 'F' 'F' 'F' 'F' 'F' 'F' 'F';\n",
    "        'F' 'F' 'F' 'F' 'F' 'F' 'F' 'F';\n",
    "        'F' 'F' 'F' 'H' 'F' 'F' 'F' 'F';\n",
    "        'F' 'F' 'F' 'F' 'F' 'H' 'F' 'F';\n",
    "        'F' 'F' 'F' 'H' 'F' 'F' 'F' 'F';\n",
    "        'F' 'H' 'H' 'F' 'F' 'F' 'H' 'F';\n",
    "        'F' 'H' 'F' 'F' 'H' 'F' 'H' 'F';\n",
    "        'F' 'F' 'F' 'H' 'F' 'F' 'F' 'G';];"
   ]
  },
  {
   "cell_type": "markdown",
   "id": "a24ca74a",
   "metadata": {
    "heading_collapsed": true
   },
   "source": [
    "# Auxilary functions"
   ]
  },
  {
   "cell_type": "code",
   "execution_count": 5,
   "id": "f15e8cc1",
   "metadata": {
    "ExecuteTime": {
     "end_time": "2023-04-09T17:40:59.040000+02:00",
     "start_time": "2023-04-09T15:40:32.258Z"
    },
    "hidden": true
   },
   "outputs": [],
   "source": [
    "function get_grid(dim, p_holes, seed = 234)\n",
    "    Random.seed!(seed)\n",
    "    grid = [rand() < p_holes ? 'H' : 'F' for i in 1:dim, j in 1:dim]\n",
    "    grid[1,1] = 'S'\n",
    "    grid[end,end] = 'G'\n",
    "    return grid\n",
    "end;\n",
    "\n",
    "function random_policy(grid,actions = actions)\n",
    "    P = rand(Int,size(grid))\n",
    "    for i = 1:length(grid)\n",
    "        P[i] = rand(1:length(actions))\n",
    "    end\n",
    "    return P\n",
    "end;\n",
    "\n",
    "function print_policy(P, grid, arrows = arrows)\n",
    "    Policy = rand(Char,size(grid))\n",
    "    for i = 1:length(grid)\n",
    "        if grid[i] == 'F' || grid[i] == 'S' \n",
    "            Policy[i] = arrows[P[i]]\n",
    "        elseif grid[i] == 'H' \n",
    "            Policy[i] = '⦷'\n",
    "        else\n",
    "            Policy[i] = grid[i]\n",
    "        end\n",
    "    end\n",
    "    return Policy\n",
    "end;"
   ]
  },
  {
   "cell_type": "markdown",
   "id": "4759a488",
   "metadata": {
    "heading_collapsed": true
   },
   "source": [
    "# Defining Frozen Lake environment"
   ]
  },
  {
   "cell_type": "code",
   "execution_count": 6,
   "id": "0913ec04",
   "metadata": {
    "ExecuteTime": {
     "end_time": "2023-04-09T17:40:59.622000+02:00",
     "start_time": "2023-04-09T15:40:32.259Z"
    },
    "hidden": true
   },
   "outputs": [
    {
     "data": {
      "text/plain": [
       "FrozenLakeEnv"
      ]
     },
     "execution_count": 6,
     "metadata": {},
     "output_type": "execute_result"
    }
   ],
   "source": [
    "mutable struct FrozenLakeEnv <: AbstractEnv\n",
    "    reward::Union{Nothing, Float64}\n",
    "    rewards::Dict{Char, Float64} \n",
    "    actions::Dict{Int64, Tuple{Int64, Int64}}  \n",
    "    world::Matrix{Char} \n",
    "    ES::Bool \n",
    "    position::Int \n",
    "end;\n",
    "Main.FrozenLakeEnv"
   ]
  },
  {
   "cell_type": "code",
   "execution_count": 7,
   "id": "629b2877",
   "metadata": {
    "ExecuteTime": {
     "end_time": "2023-04-09T17:40:59.631000+02:00",
     "start_time": "2023-04-09T15:40:32.260Z"
    },
    "hidden": true
   },
   "outputs": [],
   "source": [
    "function FrozenLakeEnv(grid::Union{Int,Symbol} = :grid4x4; ES::Bool = false) \n",
    "    if typeof(grid) == Int\n",
    "        world = get_grid(grid, 0.1)\n",
    "    elseif grid == :grid4x4\n",
    "        world = grid4x4\n",
    "    elseif grid == :grid8x8\n",
    "        world = grid8x8\n",
    "    else\n",
    "        @error \"unknown grid\"\n",
    "    end\n",
    "    ES == true ? position = rand(1:length(world)) : position = 1\n",
    "    return FrozenLakeEnv(nothing, Dict('S' => -0.05, 'G' => 1.0, 'H' => -1.0, 'F' => -0.05),\n",
    "    Dict(1 => (0,-1), 2 => (1,0), 3 => (0,1), 4 => (-1,0)), \n",
    "        world, ES, position)\n",
    "end;"
   ]
  },
  {
   "cell_type": "code",
   "execution_count": 8,
   "id": "3a13cf15",
   "metadata": {
    "ExecuteTime": {
     "end_time": "2023-04-09T17:40:59.634000+02:00",
     "start_time": "2023-04-09T15:40:32.262Z"
    },
    "hidden": true
   },
   "outputs": [],
   "source": [
    "RLBase.action_space(env::FrozenLakeEnv) = Base.OneTo(length(env.actions))\n",
    "RLBase.state_space(env::FrozenLakeEnv) = Base.OneTo(length(env.world))\n",
    "RLBase.reward(env::FrozenLakeEnv) = env.reward\n",
    "RLBase.state(env::FrozenLakeEnv) = env.position\n",
    "RLBase.is_terminated(env::FrozenLakeEnv) = env.reward == 1.0 || env.reward == -1.0 \n",
    "function RLBase.reset!(env::FrozenLakeEnv) \n",
    "    env.reward = nothing\n",
    "    env.ES == true ? env.position = rand(state_space(env)) : env.position = 1\n",
    "end"
   ]
  },
  {
   "cell_type": "code",
   "execution_count": 9,
   "id": "165663fc",
   "metadata": {
    "ExecuteTime": {
     "end_time": "2023-04-09T17:40:59.641000+02:00",
     "start_time": "2023-04-09T15:40:32.263Z"
    },
    "hidden": true
   },
   "outputs": [],
   "source": [
    "function (x::FrozenLakeEnv)(action)\n",
    "    @assert action in action_space(x)\n",
    "    direction = x.actions[action]\n",
    "    cartesian_state = (CartesianIndices(x.world)[x.position][1],\n",
    "                        CartesianIndices(x.world)[x.position][2])\n",
    "    sides = filter(y -> !(y in [direction, direction .* -1]), collect(values(x.actions)))\n",
    "    p = rand()\n",
    "    if p <= 0.8\n",
    "        new_state = cartesian_state .+ direction\n",
    "    elseif p <= 0.9\n",
    "        new_state = cartesian_state .+ sides[1]\n",
    "    else\n",
    "        new_state = cartesian_state .+ sides[2]\n",
    "    end\n",
    "    if new_state[1] in (1:size(x.world,1)) && new_state[2] in (1:size(x.world,2))\n",
    "        x.position = LinearIndices(x.world)[new_state[1],new_state[2]]\n",
    "        x.reward = x.rewards[x.world[x.position]]\n",
    "    else\n",
    "        x.position = LinearIndices(x.world)[cartesian_state[1],cartesian_state[2]]\n",
    "        x.reward = x.rewards[x.world[x.position]]\n",
    "    end\n",
    "end;"
   ]
  },
  {
   "cell_type": "code",
   "execution_count": 10,
   "id": "8da738c4",
   "metadata": {
    "ExecuteTime": {
     "end_time": "2023-04-09T17:41:00.995000+02:00",
     "start_time": "2023-04-09T15:40:32.264Z"
    },
    "hidden": true
   },
   "outputs": [
    {
     "name": "stdout",
     "output_type": "stream",
     "text": [
      "\u001b[0m\u001b[1mTest Summary:                    | \u001b[22m\u001b[32m\u001b[1mPass  \u001b[22m\u001b[39m\u001b[36m\u001b[1mTotal  \u001b[22m\u001b[39m\u001b[0m\u001b[1mTime\u001b[22m\n",
      "random policy with FrozenLakeEnv | \u001b[32m2000  \u001b[39m\u001b[36m 2000  \u001b[39m\u001b[0m0.1s\n"
     ]
    }
   ],
   "source": [
    "env = FrozenLakeEnv(:grid8x8, ES = false);\n",
    "RLBase.test_runnable!(env);"
   ]
  },
  {
   "cell_type": "markdown",
   "id": "250eed91",
   "metadata": {
    "heading_collapsed": true
   },
   "source": [
    "# Defining Agent"
   ]
  },
  {
   "cell_type": "code",
   "execution_count": 11,
   "id": "27d2e9a9",
   "metadata": {
    "ExecuteTime": {
     "end_time": "2023-04-09T17:41:01.011000+02:00",
     "start_time": "2023-04-09T15:40:32.266Z"
    },
    "hidden": true
   },
   "outputs": [
    {
     "data": {
      "text/plain": [
       "AgentMC"
      ]
     },
     "execution_count": 11,
     "metadata": {},
     "output_type": "execute_result"
    }
   ],
   "source": [
    "mutable struct AgentMC\n",
    "    env::FrozenLakeEnv\n",
    "    ϵ::Float64\n",
    "    β::Float64\n",
    "    Q::Array{Float64,2}\n",
    "    C::Array{Float64,2}\n",
    "    π::Array{Int}\n",
    "end\n",
    "\n",
    "function AgentMC(env; ϵ = .2, β = 0.999)\n",
    "    return AgentMC(env,ϵ, β,\n",
    "        zeros(length(env.world), length(action_space(env))),\n",
    "        zeros(length(env.world), length(action_space(env))),\n",
    "        rand(1:length(action_space(env)),length(env.world)))\n",
    "end"
   ]
  },
  {
   "cell_type": "markdown",
   "id": "608798c1",
   "metadata": {
    "heading_collapsed": true
   },
   "source": [
    "# On-policy functions"
   ]
  },
  {
   "cell_type": "code",
   "execution_count": 12,
   "id": "3f29a0fa",
   "metadata": {
    "ExecuteTime": {
     "end_time": "2023-04-09T17:41:01.015000+02:00",
     "start_time": "2023-04-09T15:40:32.267Z"
    },
    "hidden": true
   },
   "outputs": [],
   "source": [
    "function get_episode(agent, π = agent.π; maxstep = 1000)\n",
    "    step = 1\n",
    "    if agent.env.ES == true \n",
    "        S = rand(state_space(agent.env)) \n",
    "        action = rand(action_space(agent.env))\n",
    "    else\n",
    "        S = 1\n",
    "        rand() < agent.ϵ ? action = rand(action_space(agent.env)) : action = π[S]\n",
    "    end\n",
    "    agent.env(action)\n",
    "    r = agent.env.reward\n",
    "    episode = [(S, action, r)]\n",
    "    if is_terminated(agent.env)\n",
    "        reset!(agent.env)\n",
    "        return episode\n",
    "    end\n",
    "    while step < maxstep\n",
    "        S = state(agent.env)\n",
    "        (rand() < agent.ϵ) && (agent.env.ES == false) ? action = rand(action_space(agent.env)) : action = π[S]\n",
    "        agent.env(action)\n",
    "        r = agent.env.reward\n",
    "        push!(episode, (S, action,r))\n",
    "        if is_terminated(agent.env)\n",
    "            reset!(agent.env)\n",
    "            break\n",
    "        end\n",
    "        step +=1\n",
    "    end\n",
    "    return episode\n",
    "end;"
   ]
  },
  {
   "cell_type": "code",
   "execution_count": 13,
   "id": "e9046b1c",
   "metadata": {
    "ExecuteTime": {
     "end_time": "2023-04-09T17:41:01.019000+02:00",
     "start_time": "2023-04-09T15:40:32.269Z"
    },
    "hidden": true
   },
   "outputs": [],
   "source": [
    "function update!(agent)\n",
    "    episode = get_episode(agent)\n",
    "    R = 0\n",
    "    occur_first = reverse(vcat(findfirst.(isequal.(unique(episode)), [episode]), length(episode) + 1))\n",
    "    for k = 2:length(occur_first) \n",
    "        for i = occur_first[k-1] - 1:-1:occur_first[k]\n",
    "            state,action,r = episode[i]\n",
    "            R = agent.β*R + r\n",
    "        end\n",
    "        state,action,r = episode[occur_first[k]]\n",
    "        agent.C[state,action] += 1\n",
    "        agent.Q[state,action] += (R - agent.Q[state,action])/ agent.C[state,action] \n",
    "        agent.π[state] = argmax(agent.Q[state,:])\n",
    "    end  \n",
    "    episode[end][3] == 1.0 ? (return 1.0) : (return 0.0)\n",
    "end;"
   ]
  },
  {
   "cell_type": "code",
   "execution_count": 14,
   "id": "fdb70dc0",
   "metadata": {
    "ExecuteTime": {
     "end_time": "2023-04-09T17:41:01.021000+02:00",
     "start_time": "2023-04-09T15:40:32.271Z"
    },
    "hidden": true
   },
   "outputs": [],
   "source": [
    "function MC!(agent; maxit = 100000)\n",
    "    iter = 0\n",
    "    successes = 0.0\n",
    "    success_rate = []\n",
    "    while iter < maxit\n",
    "        successes += update!(agent)\n",
    "        push!(success_rate, successes/iter)\n",
    "        iter +=1\n",
    "    end\n",
    "    return success_rate\n",
    "end;"
   ]
  },
  {
   "cell_type": "markdown",
   "id": "17057dc2",
   "metadata": {},
   "source": [
    "# Off-policy functions"
   ]
  },
  {
   "cell_type": "code",
   "execution_count": 15,
   "id": "659e73e2",
   "metadata": {
    "ExecuteTime": {
     "end_time": "2023-04-09T17:41:01.025000+02:00",
     "start_time": "2023-04-09T15:40:32.272Z"
    },
    "code_folding": []
   },
   "outputs": [],
   "source": [
    "function get_episode_offpolicy(agent, μ; maxstep = 1000)\n",
    "    step = 1\n",
    "    W = 1.0\n",
    "    episode = []\n",
    "    \n",
    "    agent.env.ES == true ? S = rand(state_space(agent.env)) : S = 1 # wybieramy startowy stan\n",
    "    \n",
    "    action = Int(μ[S, 1])    # wybieramy akcję z strategii docelowej dla stanu S\n",
    "    agent.env(action)        # robimy tą akcję\n",
    "    r = agent.env.reward     # liczymy nagrodę z akcji\n",
    "    push!(episode, (S, action, r, W))   # uzupelniamy epizod\n",
    "    W *= agent.π[S] == action ? (1.0 / μ[S, 2]) : 0.0   # aktualizujemy wagę epizodu\n",
    "    if is_terminated(agent.env)    # sprawdzamy warunek terminacji\n",
    "        reset!(agent.env)\n",
    "        return episode\n",
    "    end\n",
    "    \n",
    "    while step < maxstep    # aż gra się nie skończy (porażką w przerębli albo w punkcie końcowym)\n",
    "        S = state(agent.env)  # robimy to samo co wyżej ...\n",
    "        action = Int(μ[S, 1])\n",
    "        agent.env(action)\n",
    "        r = agent.env.reward\n",
    "        push!(episode, (S, action, r, W))\n",
    "        W *= agent.π[S] == action ? (1.0 / μ[S, 2]) : 0.0\n",
    "        if is_terminated(agent.env)\n",
    "            reset!(agent.env)\n",
    "            break\n",
    "        end\n",
    "        step +=1\n",
    "    end\n",
    "    return episode\n",
    "end;"
   ]
  },
  {
   "cell_type": "code",
   "execution_count": 16,
   "id": "b0dedb31",
   "metadata": {
    "ExecuteTime": {
     "end_time": "2023-04-09T17:41:01.029000+02:00",
     "start_time": "2023-04-09T15:40:32.274Z"
    },
    "code_folding": []
   },
   "outputs": [],
   "source": [
    "function update_offpolicy!(agent, μ)\n",
    "    episode = get_episode_offpolicy(agent, μ)\n",
    "    R = 0\n",
    "    W = 1.0\n",
    "    occur_first = reverse(vcat(findfirst.(isequal.(unique(episode)), [episode]), length(episode) + 1))\n",
    "    for k = 2:length(occur_first)\n",
    "        for i = occur_first[k-1] - 1:-1:occur_first[k]\n",
    "            state,action,r = episode[i]\n",
    "            R = agent.β*R + r\n",
    "        end\n",
    "        state, action, r, importance_sampling_ratio = episode[occur_first[k]]\n",
    "        # nadajemy wagę liczniku wydarzeń: jak wydarzenie skończyło się sukcesem to waga jest większa \n",
    "        agent.C[state, action] += importance_sampling_ratio * W\n",
    "        agent.Q[state, action] = agent.Q[state, action] + (W / agent.C[state, action]) * (R - agent.Q[state, action])\n",
    "        agent.π[state] = argmax(agent.Q[state, :])\n",
    "        if W == 0.0\n",
    "            break\n",
    "        end\n",
    "        W *= importance_sampling_ratio\n",
    "    end  \n",
    "    episode[end][3] == 1.0 ? (return 1.0) : (return 0.0)\n",
    "end;"
   ]
  },
  {
   "cell_type": "code",
   "execution_count": 17,
   "id": "cc004fa4",
   "metadata": {
    "ExecuteTime": {
     "end_time": "2023-04-09T17:41:01.031000+02:00",
     "start_time": "2023-04-09T15:40:32.275Z"
    }
   },
   "outputs": [],
   "source": [
    "function MC_off!(agent, target_policy; maxit = 100000)\n",
    "    iter = 0\n",
    "    successes = 0.0\n",
    "    success_rate = []\n",
    "    while iter < maxit\n",
    "        successes += update_offpolicy!(agent, target_policy)\n",
    "        push!(success_rate, successes/iter)\n",
    "        iter +=1\n",
    "    end\n",
    "    return success_rate\n",
    "end;"
   ]
  },
  {
   "cell_type": "markdown",
   "id": "d3f27675",
   "metadata": {},
   "source": [
    "# Checking"
   ]
  },
  {
   "cell_type": "code",
   "execution_count": 27,
   "id": "7eb54f1c",
   "metadata": {
    "ExecuteTime": {
     "end_time": "2023-04-09T17:48:28.929000+02:00",
     "start_time": "2023-04-09T15:48:19.050Z"
    }
   },
   "outputs": [
    {
     "data": {
      "text/plain": [
       "4×4 Matrix{Char}:\n",
       " '⇓'  '⇒'  '⇓'  '⇐'\n",
       " '⇓'  '⦷'  '⇓'  '⦷'\n",
       " '⇒'  '⇓'  '⇓'  '⦷'\n",
       " '⦷'  '⇒'  '⇒'  'G'"
      ]
     },
     "execution_count": 27,
     "metadata": {},
     "output_type": "execute_result"
    }
   ],
   "source": [
    "agent = AgentMC(FrozenLakeEnv(:grid4x4, ES = false));\n",
    "success_rate = MC!(agent, maxit = 500_000)\n",
    "print_policy(agent.π, agent.env.world)"
   ]
  },
  {
   "cell_type": "code",
   "execution_count": 28,
   "id": "3910c772",
   "metadata": {
    "ExecuteTime": {
     "end_time": "2023-04-09T17:48:32.181000+02:00",
     "start_time": "2023-04-09T15:48:31.786Z"
    }
   },
   "outputs": [
    {
     "data": {
      "image/png": "[encoded data removed]",
      "text/plain": [
       "Figure(PyObject <Figure size 640x480 with 1 Axes>)"
      ]
     },
     "metadata": {},
     "output_type": "display_data"
    },
    {
     "data": {
      "text/plain": [
       "PyObject Text(24.0, 0.5, 'success rate')"
      ]
     },
     "execution_count": 28,
     "metadata": {},
     "output_type": "execute_result"
    }
   ],
   "source": [
    "plot(success_rate[1000:end])\n",
    "xlabel(\"Time\")\n",
    "ylabel(\"success rate\")"
   ]
  },
  {
   "cell_type": "code",
   "execution_count": 20,
   "id": "c8057b86",
   "metadata": {
    "ExecuteTime": {
     "end_time": "2023-04-09T17:41:16.357000+02:00",
     "start_time": "2023-04-09T15:40:32.279Z"
    }
   },
   "outputs": [
    {
     "name": "stdout",
     "output_type": "stream",
     "text": [
      "Selected target policy:\n"
     ]
    },
    {
     "data": {
      "text/plain": [
       "4×4 Matrix{Char}:\n",
       " '⇒'  '⇒'  '⇓'  '⇐'\n",
       " '⇓'  '⦷'  '⇓'  '⦷'\n",
       " '⇒'  '⇓'  '⇓'  '⦷'\n",
       " '⦷'  '⇒'  '⇒'  'G'"
      ]
     },
     "execution_count": 20,
     "metadata": {},
     "output_type": "execute_result"
    }
   ],
   "source": [
    "target_policy = ones(Float64, 16, 2);\n",
    "# najlepsza wybrana akcja w stanach 1-16\n",
    "target_policy[:, 1] .= [3, 2, 3, 2, 3, 3, 2, 3, 2, 2, 2, 3, 1, 1, 1, 3];\n",
    "# waga tej akcji\n",
    "target_policy[:, 2] .= [1, .9, .9, .9, .9, .9, .9, .9, .9, .9, .9, .9, .9, .9, .9, .9];\n",
    "println(\"Selected target policy:\")\n",
    "print_policy(target_policy[:, 1], agent.env.world)"
   ]
  },
  {
   "cell_type": "code",
   "execution_count": 26,
   "id": "20493f6b",
   "metadata": {
    "ExecuteTime": {
     "end_time": "2023-04-09T17:41:40.918000+02:00",
     "start_time": "2023-04-09T15:41:32.065Z"
    }
   },
   "outputs": [
    {
     "name": "stdout",
     "output_type": "stream",
     "text": [
      "Actual learned policy:\n"
     ]
    },
    {
     "data": {
      "text/plain": [
       "4×4 Matrix{Char}:\n",
       " '⇒'  '⇒'  '⇓'  '⇓'\n",
       " '⇓'  '⦷'  '⇓'  '⦷'\n",
       " '⇒'  '⇐'  '⇓'  '⦷'\n",
       " '⦷'  '⇒'  '⇒'  'G'"
      ]
     },
     "execution_count": 26,
     "metadata": {},
     "output_type": "execute_result"
    }
   ],
   "source": [
    "agent_off = AgentMC(FrozenLakeEnv(:grid4x4, ES = false));\n",
    "success_rate_off = MC_off!(agent_off, target_policy; maxit = 500_000)\n",
    "println(\"Actual learned policy:\")\n",
    "print_policy(agent_off.π, agent_off.env.world)"
   ]
  },
  {
   "cell_type": "code",
   "execution_count": 22,
   "id": "abff4c00",
   "metadata": {
    "ExecuteTime": {
     "end_time": "2023-04-09T17:41:22.876000+02:00",
     "start_time": "2023-04-09T15:40:32.282Z"
    }
   },
   "outputs": [
    {
     "data": {
      "image/png": "[encoded data removed]",
      "text/plain": [
       "Figure(PyObject <Figure size 640x480 with 1 Axes>)"
      ]
     },
     "metadata": {},
     "output_type": "display_data"
    },
    {
     "data": {
      "text/plain": [
       "PyObject Text(24.0, 0.5, 'success rate')"
      ]
     },
     "execution_count": 22,
     "metadata": {},
     "output_type": "execute_result"
    }
   ],
   "source": [
    "plot(success_rate_off[1000:end])\n",
    "xlabel(\"Time\")\n",
    "ylabel(\"success rate\")"
   ]
  },
  {
   "cell_type": "markdown",
   "id": "a1a47021",
   "metadata": {},
   "source": [
    "# Discussion"
   ]
  },
  {
   "cell_type": "markdown",
   "id": "40534c77",
   "metadata": {},
   "source": [
    "W rozważanym zadaniu domowym zaimplementowany został algorytm Monte Carlo Off policy. Dalej został on porównany z algorytmem On policy, pokazanym na zajęciach.\n",
    "\n",
    "Ogólnie, wyniki wskazywały, że w przypadku Off policy dla siatki gry 4x4 prawdopodobieństwo sukcesu było średnio większe o 5 p.p. Akurat w tym wygenerowanym losowo przypadku dostałem wynik o 10 p.p. lepszy. Wydaje się, że najtrudniejszym dla algorytmu On policy była akcja dla stanu S=1 ('⇓'). Częściej doprowadzało to do sytuacji, gdzie agent trafiał w lewy górny róg, w którym większa była możliwość pośliźnięcia się i trafienia do przerębli. Rolę zagrał tutaj dobry wybór pierwszej akcji w strategii docelowej (target policy).\n",
    "\n",
    "P.S. miałem problem z puszczaniem przykładu z Blackjackiem, wyskakiwał error związany z indeksacją."
   ]
  }
 ],
 "metadata": {
  "kernelspec": {
   "display_name": "Julia 1.8.2",
   "language": "julia",
   "name": "julia-1.8"
  },
  "language_info": {
   "file_extension": ".jl",
   "mimetype": "application/julia",
   "name": "julia",
   "version": "1.8.2"
  },
  "toc": {
   "base_numbering": 1,
   "nav_menu": {},
   "number_sections": true,
   "sideBar": true,
   "skip_h1_title": false,
   "title_cell": "Table of Contents",
   "title_sidebar": "Contents",
   "toc_cell": false,
   "toc_position": {},
   "toc_section_display": true,
   "toc_window_display": false
  },
  "varInspector": {
   "cols": {
    "lenName": 16,
    "lenType": 16,
    "lenVar": 40
   },
   "kernels_config": {
    "python": {
     "delete_cmd_postfix": "",
     "delete_cmd_prefix": "del ",
     "library": "var_list.py",
     "varRefreshCmd": "print(var_dic_list())"
    },
    "r": {
     "delete_cmd_postfix": ") ",
     "delete_cmd_prefix": "rm(",
     "library": "var_list.r",
     "varRefreshCmd": "cat(var_dic_list()) "
    }
   },
   "types_to_exclude": [
    "module",
    "function",
    "builtin_function_or_method",
    "instance",
    "_Feature"
   ],
   "window_display": false
  }
 },
 "nbformat": 4,
 "nbformat_minor": 5
}
