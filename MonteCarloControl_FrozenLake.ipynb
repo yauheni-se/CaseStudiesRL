{
 "cells": [
  {
   "cell_type": "markdown",
   "id": "c02416a9",
   "metadata": {},
   "source": [
    "# Frozen Lake Monte Carlo Control"
   ]
  },
  {
   "cell_type": "code",
   "execution_count": 1,
   "id": "c0229148",
   "metadata": {
    "ExecuteTime": {
     "end_time": "2023-04-08T11:49:05.489000+02:00",
     "start_time": "2023-04-08T09:49:01.891Z"
    }
   },
   "outputs": [],
   "source": [
    "using PyPlot"
   ]
  },
  {
   "cell_type": "code",
   "execution_count": 2,
   "id": "79c65645",
   "metadata": {
    "ExecuteTime": {
     "end_time": "2023-04-08T11:49:07.696000+02:00",
     "start_time": "2023-04-08T09:49:01.892Z"
    }
   },
   "outputs": [],
   "source": [
    "using Random"
   ]
  },
  {
   "cell_type": "code",
   "execution_count": 3,
   "id": "c6a9bd7f",
   "metadata": {
    "ExecuteTime": {
     "end_time": "2023-04-08T11:49:28.146000+02:00",
     "start_time": "2023-04-08T09:49:01.894Z"
    }
   },
   "outputs": [],
   "source": [
    "using ReinforcementLearning "
   ]
  },
  {
   "cell_type": "markdown",
   "id": "303cfba9",
   "metadata": {},
   "source": [
    "Firstly, we will define our environment. We will make it recognizable for the [<tt>ReinforcementLearning.jl</tt>]( https://juliareinforcementlearning.org/).\n",
    "\n",
    "Let us start with predefined constants and functions:"
   ]
  },
  {
   "cell_type": "code",
   "execution_count": 4,
   "id": "7257e580",
   "metadata": {
    "ExecuteTime": {
     "end_time": "2023-04-08T11:49:28.814000+02:00",
     "start_time": "2023-04-08T09:49:01.895Z"
    }
   },
   "outputs": [],
   "source": [
    "#actions coded as :left => 1, :down => 2, :right => 3, :up => 4\n",
    "#arrows are corresponding to actions\n",
    "arrows = Dict(1 => '⇐', 2 => '⇓', 3 => '⇒', 4 => '⇑');\n",
    "\n",
    "grid4x4= ['S' 'F' 'F' 'F';\n",
    "        'F' 'H' 'F' 'H';\n",
    "        'F' 'F' 'F' 'H';\n",
    "        'H' 'F' 'F' 'G'];\n",
    "\n",
    "grid8x8 =['S' 'F' 'F' 'F' 'F' 'F' 'F' 'F';\n",
    "        'F' 'F' 'F' 'F' 'F' 'F' 'F' 'F';\n",
    "        'F' 'F' 'F' 'H' 'F' 'F' 'F' 'F';\n",
    "        'F' 'F' 'F' 'F' 'F' 'H' 'F' 'F';\n",
    "        'F' 'F' 'F' 'H' 'F' 'F' 'F' 'F';\n",
    "        'F' 'H' 'H' 'F' 'F' 'F' 'H' 'F';\n",
    "        'F' 'H' 'F' 'F' 'H' 'F' 'H' 'F';\n",
    "        'F' 'F' 'F' 'H' 'F' 'F' 'F' 'G';];"
   ]
  },
  {
   "cell_type": "code",
   "execution_count": 5,
   "id": "f15e8cc1",
   "metadata": {
    "ExecuteTime": {
     "end_time": "2023-04-08T11:49:28.819000+02:00",
     "start_time": "2023-04-08T09:49:01.896Z"
    }
   },
   "outputs": [],
   "source": [
    "#Auxilliary functions\n",
    "function get_grid(dim, p_holes, seed = 234)\n",
    "    Random.seed!(seed)\n",
    "    grid = [rand() < p_holes ? 'H' : 'F' for i in 1:dim, j in 1:dim]\n",
    "    grid[1,1] = 'S'\n",
    "    grid[end,end] = 'G'\n",
    "    return grid\n",
    "end;\n",
    "\n",
    "function random_policy(grid,actions = actions)\n",
    "    P = rand(Int,size(grid))\n",
    "    for i = 1:length(grid)\n",
    "        P[i] = rand(1:length(actions))\n",
    "    end\n",
    "    return P\n",
    "end;\n",
    "\n",
    "function print_policy(P, grid, arrows = arrows)\n",
    "    Policy = rand(Char,size(grid))\n",
    "    for i = 1:length(grid)\n",
    "        if grid[i] == 'F' || grid[i] == 'S' \n",
    "            Policy[i] = arrows[P[i]]\n",
    "        elseif grid[i] == 'H' \n",
    "            Policy[i] = '⦷'\n",
    "        else\n",
    "            Policy[i] = grid[i]\n",
    "        end\n",
    "    end\n",
    "    return Policy\n",
    "end;"
   ]
  },
  {
   "cell_type": "markdown",
   "id": "1082d53f",
   "metadata": {},
   "source": [
    "Now, we will define the environment as a mutable struct:"
   ]
  },
  {
   "cell_type": "code",
   "execution_count": 6,
   "id": "0913ec04",
   "metadata": {
    "ExecuteTime": {
     "end_time": "2023-04-08T11:49:29.409000+02:00",
     "start_time": "2023-04-08T09:49:01.897Z"
    }
   },
   "outputs": [
    {
     "data": {
      "text/plain": [
       "FrozenLakeEnv"
      ]
     },
     "execution_count": 6,
     "metadata": {},
     "output_type": "execute_result"
    }
   ],
   "source": [
    "mutable struct FrozenLakeEnv <: AbstractEnv\n",
    "    reward::Union{Nothing, Float64}\n",
    "    rewards::Dict{Char, Float64} \n",
    "    actions::Dict{Int64, Tuple{Int64, Int64}}  \n",
    "    world::Matrix{Char} \n",
    "    ES::Bool \n",
    "    position::Int \n",
    "end;\n",
    "Main.FrozenLakeEnv"
   ]
  },
  {
   "cell_type": "markdown",
   "id": "ea250faa",
   "metadata": {},
   "source": [
    "and define a constructor function of Frozen Lake environment:"
   ]
  },
  {
   "cell_type": "code",
   "execution_count": 7,
   "id": "629b2877",
   "metadata": {
    "ExecuteTime": {
     "end_time": "2023-04-08T11:49:29.419000+02:00",
     "start_time": "2023-04-08T09:49:01.899Z"
    }
   },
   "outputs": [],
   "source": [
    "function FrozenLakeEnv(grid::Union{Int,Symbol} = :grid4x4; ES::Bool = false) \n",
    "    if typeof(grid) == Int\n",
    "        world = get_grid(grid, 0.1)\n",
    "    elseif grid == :grid4x4\n",
    "        world = grid4x4\n",
    "    elseif grid == :grid8x8\n",
    "        world = grid8x8\n",
    "    else\n",
    "        @error \"unknown grid\"\n",
    "    end\n",
    "    ES == true ? position = rand(1:length(world)) : position = 1\n",
    "    return FrozenLakeEnv(nothing, Dict('S' => -0.05, 'G' => 1.0, 'H' => -1.0, 'F' => -0.05),\n",
    "    Dict(1 => (0,-1), 2 => (1,0), 3 => (0,1), 4 => (-1,0)), \n",
    "        world, ES, position)\n",
    "end;"
   ]
  },
  {
   "cell_type": "markdown",
   "id": "e552a50b",
   "metadata": {},
   "source": [
    "Now, we must define the minimal interface of the environment. Without this functions code will not work properly:"
   ]
  },
  {
   "cell_type": "code",
   "execution_count": 8,
   "id": "3a13cf15",
   "metadata": {
    "ExecuteTime": {
     "end_time": "2023-04-08T11:49:29.423000+02:00",
     "start_time": "2023-04-08T09:49:01.900Z"
    }
   },
   "outputs": [],
   "source": [
    "#functions:\n",
    "RLBase.action_space(env::FrozenLakeEnv) = Base.OneTo(length(env.actions)) # range 1:4\n",
    "RLBase.state_space(env::FrozenLakeEnv) = Base.OneTo(length(env.world))\n",
    "RLBase.reward(env::FrozenLakeEnv) = env.reward\n",
    "RLBase.state(env::FrozenLakeEnv) = env.position # pozycja na mapie\n",
    "RLBase.is_terminated(env::FrozenLakeEnv) = env.reward == 1.0 || env.reward == -1.0 \n",
    "# terminujemy gre gdy dojdziemy do przelebli / do konca gry\n",
    "function RLBase.reset!(env::FrozenLakeEnv) \n",
    "    env.reward = nothing\n",
    "    env.ES == true ? env.position = rand(state_space(env)) : env.position = 1\n",
    "end\n",
    "\n",
    "# must-have functions"
   ]
  },
  {
   "cell_type": "markdown",
   "id": "e5d97b58",
   "metadata": {},
   "source": [
    "and the most important function that controls the  movement:"
   ]
  },
  {
   "cell_type": "code",
   "execution_count": 9,
   "id": "165663fc",
   "metadata": {
    "ExecuteTime": {
     "end_time": "2023-04-08T11:49:29.441000+02:00",
     "start_time": "2023-04-08T09:49:01.902Z"
    }
   },
   "outputs": [],
   "source": [
    "# najblizszy odpowidnik metody z pythona, ale dla konkretnego obiektu \n",
    "function (x::FrozenLakeEnv)(action)\n",
    "    @assert action in action_space(x) # sprawdza czy akcja nalezy do przestrzeni akcji; else blad\n",
    "    direction = x.actions[action] # bierzemy akcje (1|2|3|4); czyli kierunek (lewo|prawo|gora|dol)\n",
    "    cartesian_state = (CartesianIndices(x.world)[x.position][1],\n",
    "                        CartesianIndices(x.world)[x.position][2]) # indeksy pola - wspolrzedne\n",
    "    sides = filter(y -> !(y in [direction, direction .* -1]), collect(values(x.actions)))\n",
    "    # wyznaczaly lewo i prawo; \n",
    "    # nie wchcemy kierunku ktory wybralismy i kierunek do przodu (kierunek-1)\n",
    "    p = rand()\n",
    "    if p <= 0.8\n",
    "        new_state = cartesian_state .+ direction\n",
    "    elseif p <= 0.9\n",
    "        new_state = cartesian_state .+ sides[1]\n",
    "    else\n",
    "        new_state = cartesian_state .+ sides[2]\n",
    "    end\n",
    "    # czy pole znajduje sie w wymiarach swiata (czy to nie sciana)\n",
    "    if new_state[1] in (1:size(x.world,1)) && new_state[2] in (1:size(x.world,2))\n",
    "        x.position = LinearIndices(x.world)[new_state[1],new_state[2]] # przenosimy pozycje\n",
    "        x.reward = x.rewards[x.world[x.position]] \n",
    "        # mapujemy nagrode (ze slownika nagrod) - w 1 kroku, nie epizodzie(=1 GRA)\n",
    "    else\n",
    "        x.position = LinearIndices(x.world)[cartesian_state[1],cartesian_state[2]]\n",
    "        x.reward = x.rewards[x.world[x.position]]\n",
    "    end\n",
    "end;"
   ]
  },
  {
   "cell_type": "markdown",
   "id": "6ac8df2b",
   "metadata": {},
   "source": [
    "Now we could test if the Frozen Lake enviroment works and debug it if neccessary:"
   ]
  },
  {
   "cell_type": "code",
   "execution_count": 10,
   "id": "8da738c4",
   "metadata": {
    "ExecuteTime": {
     "end_time": "2023-04-08T11:49:30.799000+02:00",
     "start_time": "2023-04-08T09:49:01.903Z"
    }
   },
   "outputs": [
    {
     "name": "stdout",
     "output_type": "stream",
     "text": [
      "\u001b[0m\u001b[1mTest Summary:                    | \u001b[22m\u001b[32m\u001b[1mPass  \u001b[22m\u001b[39m\u001b[36m\u001b[1mTotal  \u001b[22m\u001b[39m\u001b[0m\u001b[1mTime\u001b[22m\n",
      "random policy with FrozenLakeEnv | \u001b[32m2000  \u001b[39m\u001b[36m 2000  \u001b[39m\u001b[0m0.1s\n"
     ]
    }
   ],
   "source": [
    "env = FrozenLakeEnv(:grid8x8, ES = false);\n",
    "RLBase.test_runnable!(env);"
   ]
  },
  {
   "cell_type": "code",
   "execution_count": 11,
   "id": "d04e8a47",
   "metadata": {
    "ExecuteTime": {
     "end_time": "2023-04-08T11:49:33.845000+02:00",
     "start_time": "2023-04-08T09:49:01.904Z"
    }
   },
   "outputs": [
    {
     "data": {
      "text/markdown": [
       "# FrozenLakeEnv\n",
       "\n",
       "## Traits\n",
       "\n",
       "| Trait Type        |                  Value |\n",
       "|:----------------- | ----------------------:|\n",
       "| NumAgentStyle     |          SingleAgent() |\n",
       "| DynamicStyle      |           Sequential() |\n",
       "| InformationStyle  | ImperfectInformation() |\n",
       "| ChanceStyle       |           Stochastic() |\n",
       "| RewardStyle       |           StepReward() |\n",
       "| UtilityStyle      |           GeneralSum() |\n",
       "| ActionStyle       |     MinimalActionSet() |\n",
       "| StateStyle        |     Observation{Any}() |\n",
       "| DefaultStateStyle |     Observation{Any}() |\n",
       "\n",
       "## Is Environment Terminated?\n",
       "\n",
       "No\n",
       "\n",
       "## State Space\n",
       "\n",
       "`Base.OneTo(64)`\n",
       "\n",
       "## Action Space\n",
       "\n",
       "`Base.OneTo(4)`\n",
       "\n",
       "## Current State\n",
       "\n",
       "```\n",
       "1\n",
       "```\n"
      ],
      "text/plain": [
       "# FrozenLakeEnv\n",
       "\n",
       "## Traits\n",
       "\n",
       "| Trait Type        |                  Value |\n",
       "|:----------------- | ----------------------:|\n",
       "| NumAgentStyle     |          SingleAgent() |\n",
       "| DynamicStyle      |           Sequential() |\n",
       "| InformationStyle  | ImperfectInformation() |\n",
       "| ChanceStyle       |           Stochastic() |\n",
       "| RewardStyle       |           StepReward() |\n",
       "| UtilityStyle      |           GeneralSum() |\n",
       "| ActionStyle       |     MinimalActionSet() |\n",
       "| StateStyle        |     Observation{Any}() |\n",
       "| DefaultStateStyle |     Observation{Any}() |\n",
       "\n",
       "## Is Environment Terminated?\n",
       "\n",
       "No\n",
       "\n",
       "## State Space\n",
       "\n",
       "`Base.OneTo(64)`\n",
       "\n",
       "## Action Space\n",
       "\n",
       "`Base.OneTo(4)`\n",
       "\n",
       "## Current State\n",
       "\n",
       "```\n",
       "1\n",
       "```\n"
      ]
     },
     "execution_count": 11,
     "metadata": {},
     "output_type": "execute_result"
    }
   ],
   "source": [
    "env"
   ]
  },
  {
   "cell_type": "markdown",
   "id": "c8347960",
   "metadata": {},
   "source": [
    "[Hooks](https://juliareinforcementlearning.org/docs/How_to_use_hooks/) are one of the biggest advantages of the <tt>ReinforcementLearning.jl</tt> package. They allow us to collect some useful information about the training process. Here is the simple example how we could use them:"
   ]
  },
  {
   "cell_type": "code",
   "execution_count": 12,
   "id": "d5138ad5",
   "metadata": {
    "ExecuteTime": {
     "end_time": "2023-04-08T11:49:34.548000+02:00",
     "start_time": "2023-04-08T09:49:01.906Z"
    }
   },
   "outputs": [
    {
     "data": {
      "text/plain": [
       "TotalRewardPerEpisode(Float64[], 0.0, true)"
      ]
     },
     "execution_count": 12,
     "metadata": {},
     "output_type": "execute_result"
    }
   ],
   "source": [
    "hook = TotalRewardPerEpisode() # co jedna epoke wyrzuc calkowita nagroda\n",
    "TotalRewardPerEpisode(Float64[], 0.0, true) \n",
    "# pusta lista (od 1 iteracji), nagroda pierwotna =0, czy bedzie wykres"
   ]
  },
  {
   "cell_type": "code",
   "execution_count": 13,
   "id": "0b39b91b",
   "metadata": {
    "ExecuteTime": {
     "end_time": "2023-04-08T11:49:40.829000+02:00",
     "start_time": "2023-04-08T09:49:01.907Z"
    }
   },
   "outputs": [
    {
     "name": "stderr",
     "output_type": "stream",
     "text": [
      "\u001b[32mProgress: 100%|█████████████████████████████████████████| Time: 0:00:03\u001b[39m\n"
     ]
    },
    {
     "name": "stdout",
     "output_type": "stream",
     "text": [
      "             ⠀⠀⠀⠀⠀⠀⠀⠀⠀\u001b[97;1mTotal reward per episode\u001b[0m⠀⠀⠀⠀⠀⠀⠀⠀⠀ \n",
      "             \u001b[38;5;8m┌────────────────────────────────────────┐\u001b[0m \n",
      "          \u001b[38;5;8m10\u001b[0m \u001b[38;5;8m│\u001b[0m⠀⠀⠀⠀⠀⠀⠀⠀⠀⠀⠀⠀⠀⠀⠀⠀⠀⠀⠀⠀⠀⠀⠀⠀⠀⠀⠀⠀⠀⠀⠀⠀⠀⠀⠀⠀⠀⠀⠀⠀\u001b[38;5;8m│\u001b[0m \u001b[38;5;8m\u001b[0m\n",
      "            \u001b[38;5;8m\u001b[0m \u001b[38;5;8m│\u001b[0m⠀⠀⠀⠀⠀⠀⠀⠀⠀⠀⠀⠀⠀⠀⠀⠀⠀⠀⠀⠀⠀⠀⠀⠀⠀⠀⠀⠀⠀⠀⠀⠀⠀⠀⠀⠀⠀⠀⠀⠀\u001b[38;5;8m│\u001b[0m \u001b[38;5;8m\u001b[0m\n",
      "            \u001b[38;5;8m\u001b[0m \u001b[38;5;8m│\u001b[0m⠀⠀⠀⠀⠀⠀⠀⠀⠀⠀⠀⠀⠀⠀⠀⠀⠀⠀⠀⠀⠀⠀⠀⠀⠀⠀⠀⠀⠀⠀⠀⠀⠀⠀⠀⠀⠀⠀⠀⠀\u001b[38;5;8m│\u001b[0m \u001b[38;5;8m\u001b[0m\n",
      "            \u001b[38;5;8m\u001b[0m \u001b[38;5;8m│\u001b[0m⠀⠀⠀⠀⠀⠀⠀⠀⠀⠀⠀⠀⠀⠀⠀⠀⠀⠀⠀⠀⠀⠀⠀⠀⠀⠀⠀⠀⠀⠀⠀⠀⠀⠀⠀⠀⠀⠀⠀⠀\u001b[38;5;8m│\u001b[0m \u001b[38;5;8m\u001b[0m\n",
      "            \u001b[38;5;8m\u001b[0m \u001b[38;5;8m│\u001b[0m⠀⠀⠀\u001b[38;5;2m⢀\u001b[0m⠀⠀⠀⠀⠀⠀⠀⠀⠀\u001b[38;5;2m⢀\u001b[0m⠀\u001b[38;5;2m⡀\u001b[0m⠀⠀⠀⠀⠀⠀⠀\u001b[38;5;2m⢀\u001b[0m⠀⠀⠀⠀⠀\u001b[38;5;2m⢀\u001b[0m\u001b[38;5;2m⡀\u001b[0m⠀⠀⠀⠀⠀⠀⠀⠀⠀\u001b[38;5;8m│\u001b[0m \u001b[38;5;8m\u001b[0m\n",
      "            \u001b[38;5;8m\u001b[0m \u001b[38;5;8m│\u001b[0m\u001b[38;5;2m⣯\u001b[0m\u001b[38;5;2m⣿\u001b[0m\u001b[38;5;2m⣯\u001b[0m\u001b[38;5;2m⣿\u001b[0m\u001b[38;5;2m⣭\u001b[0m\u001b[38;5;2m⣯\u001b[0m\u001b[38;5;2m⣯\u001b[0m\u001b[38;5;2m⣿\u001b[0m\u001b[38;5;2m⣿\u001b[0m\u001b[38;5;2m⣿\u001b[0m\u001b[38;5;2m⣿\u001b[0m\u001b[38;5;2m⣿\u001b[0m\u001b[38;5;2m⣯\u001b[0m\u001b[38;5;2m⣿\u001b[0m\u001b[38;5;2m⣿\u001b[0m\u001b[38;5;2m⣿\u001b[0m\u001b[38;5;2m⣿\u001b[0m\u001b[38;5;2m⣯\u001b[0m\u001b[38;5;2m⣿\u001b[0m\u001b[38;5;2m⣯\u001b[0m\u001b[38;5;2m⣽\u001b[0m\u001b[38;5;2m⣿\u001b[0m\u001b[38;5;2m⣽\u001b[0m\u001b[38;5;2m⣿\u001b[0m\u001b[38;5;2m⣿\u001b[0m\u001b[38;5;2m⣿\u001b[0m\u001b[38;5;2m⣽\u001b[0m\u001b[38;5;2m⣿\u001b[0m\u001b[38;5;2m⣿\u001b[0m\u001b[38;5;2m⣽\u001b[0m\u001b[38;5;2m⣿\u001b[0m\u001b[38;5;2m⣭\u001b[0m\u001b[38;5;2m⣽\u001b[0m\u001b[38;5;2m⣯\u001b[0m\u001b[38;5;2m⣿\u001b[0m\u001b[38;5;2m⣽\u001b[0m\u001b[38;5;2m⣽\u001b[0m\u001b[38;5;2m⣽\u001b[0m\u001b[38;5;2m⣿\u001b[0m\u001b[38;5;2m⣯\u001b[0m\u001b[38;5;8m│\u001b[0m \u001b[38;5;8m\u001b[0m\n",
      "            \u001b[38;5;8m\u001b[0m \u001b[38;5;8m│\u001b[0m\u001b[38;5;2m⣿\u001b[0m\u001b[38;5;2m⣿\u001b[0m\u001b[38;5;2m⣿\u001b[0m\u001b[38;5;2m⣿\u001b[0m\u001b[38;5;2m⣿\u001b[0m\u001b[38;5;2m⣿\u001b[0m\u001b[38;5;2m⣿\u001b[0m\u001b[38;5;2m⣿\u001b[0m\u001b[38;5;2m⣿\u001b[0m\u001b[38;5;2m⣿\u001b[0m\u001b[38;5;2m⣿\u001b[0m\u001b[38;5;2m⣿\u001b[0m\u001b[38;5;2m⣿\u001b[0m\u001b[38;5;2m⣿\u001b[0m\u001b[38;5;2m⣿\u001b[0m\u001b[38;5;2m⣿\u001b[0m\u001b[38;5;2m⣿\u001b[0m\u001b[38;5;2m⣿\u001b[0m\u001b[38;5;2m⣿\u001b[0m\u001b[38;5;2m⣿\u001b[0m\u001b[38;5;2m⣿\u001b[0m\u001b[38;5;2m⣿\u001b[0m\u001b[38;5;2m⣿\u001b[0m\u001b[38;5;2m⣿\u001b[0m\u001b[38;5;2m⣿\u001b[0m\u001b[38;5;2m⣿\u001b[0m\u001b[38;5;2m⣿\u001b[0m\u001b[38;5;2m⣿\u001b[0m\u001b[38;5;2m⣿\u001b[0m\u001b[38;5;2m⣿\u001b[0m\u001b[38;5;2m⣿\u001b[0m\u001b[38;5;2m⣿\u001b[0m\u001b[38;5;2m⣿\u001b[0m\u001b[38;5;2m⣿\u001b[0m\u001b[38;5;2m⣿\u001b[0m\u001b[38;5;2m⣿\u001b[0m\u001b[38;5;2m⣿\u001b[0m\u001b[38;5;2m⣿\u001b[0m\u001b[38;5;2m⣿\u001b[0m\u001b[38;5;2m⣿\u001b[0m\u001b[38;5;8m│\u001b[0m \u001b[38;5;8m\u001b[0m\n",
      "   Score    \u001b[38;5;8m\u001b[0m \u001b[38;5;8m│\u001b[0m\u001b[38;5;2m⣿\u001b[0m\u001b[38;5;2m⣿\u001b[0m\u001b[38;5;2m⣿\u001b[0m\u001b[38;5;2m⣿\u001b[0m\u001b[38;5;2m⣿\u001b[0m\u001b[38;5;2m⣿\u001b[0m\u001b[38;5;2m⣿\u001b[0m\u001b[38;5;2m⣿\u001b[0m\u001b[38;5;2m⣿\u001b[0m\u001b[38;5;2m⣿\u001b[0m\u001b[38;5;2m⣿\u001b[0m\u001b[38;5;2m⣿\u001b[0m\u001b[38;5;2m⣿\u001b[0m\u001b[38;5;2m⣿\u001b[0m\u001b[38;5;2m⣿\u001b[0m\u001b[38;5;2m⣿\u001b[0m\u001b[38;5;2m⣿\u001b[0m\u001b[38;5;2m⣿\u001b[0m\u001b[38;5;2m⣿\u001b[0m\u001b[38;5;2m⣿\u001b[0m\u001b[38;5;2m⣿\u001b[0m\u001b[38;5;2m⣿\u001b[0m\u001b[38;5;2m⣿\u001b[0m\u001b[38;5;2m⣿\u001b[0m\u001b[38;5;2m⣿\u001b[0m\u001b[38;5;2m⣿\u001b[0m\u001b[38;5;2m⣿\u001b[0m\u001b[38;5;2m⣿\u001b[0m\u001b[38;5;2m⣿\u001b[0m\u001b[38;5;2m⣿\u001b[0m\u001b[38;5;2m⣿\u001b[0m\u001b[38;5;2m⣿\u001b[0m\u001b[38;5;2m⣿\u001b[0m\u001b[38;5;2m⣿\u001b[0m\u001b[38;5;2m⣿\u001b[0m\u001b[38;5;2m⣿\u001b[0m\u001b[38;5;2m⣿\u001b[0m\u001b[38;5;2m⣿\u001b[0m\u001b[38;5;2m⣿\u001b[0m\u001b[38;5;2m⣿\u001b[0m\u001b[38;5;8m│\u001b[0m \u001b[38;5;8m\u001b[0m\n",
      "            \u001b[38;5;8m\u001b[0m \u001b[38;5;8m│\u001b[0m\u001b[38;5;2m⣿\u001b[0m\u001b[38;5;2m⣿\u001b[0m\u001b[38;5;2m⣿\u001b[0m\u001b[38;5;2m⣿\u001b[0m\u001b[38;5;2m⣿\u001b[0m\u001b[38;5;2m⣿\u001b[0m\u001b[38;5;2m⣿\u001b[0m\u001b[38;5;2m⣿\u001b[0m\u001b[38;5;2m⣿\u001b[0m\u001b[38;5;2m⣿\u001b[0m\u001b[38;5;2m⣿\u001b[0m\u001b[38;5;2m⣿\u001b[0m\u001b[38;5;2m⣿\u001b[0m\u001b[38;5;2m⣿\u001b[0m\u001b[38;5;2m⣿\u001b[0m\u001b[38;5;2m⣿\u001b[0m\u001b[38;5;2m⣿\u001b[0m\u001b[38;5;2m⣿\u001b[0m\u001b[38;5;2m⣿\u001b[0m\u001b[38;5;2m⣿\u001b[0m\u001b[38;5;2m⣿\u001b[0m\u001b[38;5;2m⣿\u001b[0m\u001b[38;5;2m⣿\u001b[0m\u001b[38;5;2m⣿\u001b[0m\u001b[38;5;2m⣿\u001b[0m\u001b[38;5;2m⣿\u001b[0m\u001b[38;5;2m⣿\u001b[0m\u001b[38;5;2m⣿\u001b[0m\u001b[38;5;2m⣿\u001b[0m\u001b[38;5;2m⣿\u001b[0m\u001b[38;5;2m⣿\u001b[0m\u001b[38;5;2m⣿\u001b[0m\u001b[38;5;2m⣿\u001b[0m\u001b[38;5;2m⣿\u001b[0m\u001b[38;5;2m⣿\u001b[0m\u001b[38;5;2m⣿\u001b[0m\u001b[38;5;2m⣿\u001b[0m\u001b[38;5;2m⣿\u001b[0m\u001b[38;5;2m⣿\u001b[0m\u001b[38;5;2m⣿\u001b[0m\u001b[38;5;8m│\u001b[0m \u001b[38;5;8m\u001b[0m\n",
      "            \u001b[38;5;8m\u001b[0m \u001b[38;5;8m│\u001b[0m\u001b[38;5;2m⡿\u001b[0m\u001b[38;5;2m⢿\u001b[0m\u001b[38;5;2m⣿\u001b[0m\u001b[38;5;2m⣿\u001b[0m\u001b[38;5;2m⠿\u001b[0m\u001b[38;5;2m⣿\u001b[0m\u001b[38;5;2m⣿\u001b[0m\u001b[38;5;2m⣿\u001b[0m\u001b[38;5;2m⣿\u001b[0m\u001b[38;5;2m⣿\u001b[0m\u001b[38;5;2m⡿\u001b[0m\u001b[38;5;2m⣿\u001b[0m\u001b[38;5;2m⣿\u001b[0m\u001b[38;5;2m⢿\u001b[0m\u001b[38;5;2m⣿\u001b[0m\u001b[38;5;2m⣿\u001b[0m\u001b[38;5;2m⢻\u001b[0m\u001b[38;5;2m⣿\u001b[0m\u001b[38;5;2m⡿\u001b[0m\u001b[38;5;2m⣿\u001b[0m\u001b[38;5;2m⣿\u001b[0m\u001b[38;5;2m⢿\u001b[0m\u001b[38;5;2m⢻\u001b[0m\u001b[38;5;2m⣿\u001b[0m\u001b[38;5;2m⢿\u001b[0m\u001b[38;5;2m⣿\u001b[0m\u001b[38;5;2m⣿\u001b[0m\u001b[38;5;2m⣿\u001b[0m\u001b[38;5;2m⣿\u001b[0m\u001b[38;5;2m⣿\u001b[0m\u001b[38;5;2m⣿\u001b[0m\u001b[38;5;2m⣿\u001b[0m\u001b[38;5;2m⣿\u001b[0m\u001b[38;5;2m⣿\u001b[0m\u001b[38;5;2m⣿\u001b[0m\u001b[38;5;2m⢿\u001b[0m\u001b[38;5;2m⣿\u001b[0m\u001b[38;5;2m⣿\u001b[0m\u001b[38;5;2m⣿\u001b[0m\u001b[38;5;2m⢿\u001b[0m\u001b[38;5;8m│\u001b[0m \u001b[38;5;8m\u001b[0m\n",
      "            \u001b[38;5;8m\u001b[0m \u001b[38;5;8m│\u001b[0m⠀\u001b[38;5;2m⢸\u001b[0m\u001b[38;5;2m⠟\u001b[0m\u001b[38;5;2m⡿\u001b[0m⠀\u001b[38;5;2m⡇\u001b[0m\u001b[38;5;2m⠸\u001b[0m\u001b[38;5;2m⣿\u001b[0m\u001b[38;5;2m⡟\u001b[0m\u001b[38;5;2m⣿\u001b[0m\u001b[38;5;2m⡇\u001b[0m\u001b[38;5;2m⠋\u001b[0m\u001b[38;5;2m⣿\u001b[0m\u001b[38;5;2m⠈\u001b[0m\u001b[38;5;2m⠙\u001b[0m\u001b[38;5;2m⢸\u001b[0m\u001b[38;5;2m⠘\u001b[0m\u001b[38;5;2m⢻\u001b[0m\u001b[38;5;2m⠃\u001b[0m\u001b[38;5;2m⠁\u001b[0m\u001b[38;5;2m⡏\u001b[0m\u001b[38;5;2m⢸\u001b[0m\u001b[38;5;2m⠈\u001b[0m\u001b[38;5;2m⡇\u001b[0m\u001b[38;5;2m⢸\u001b[0m\u001b[38;5;2m⠻\u001b[0m\u001b[38;5;2m⠇\u001b[0m\u001b[38;5;2m⣿\u001b[0m\u001b[38;5;2m⡇\u001b[0m\u001b[38;5;2m⠿\u001b[0m\u001b[38;5;2m⢸\u001b[0m\u001b[38;5;2m⠈\u001b[0m\u001b[38;5;2m⢿\u001b[0m\u001b[38;5;2m⠃\u001b[0m\u001b[38;5;2m⢸\u001b[0m\u001b[38;5;2m⢸\u001b[0m\u001b[38;5;2m⠘\u001b[0m\u001b[38;5;2m⠛\u001b[0m⠀\u001b[38;5;2m⢸\u001b[0m\u001b[38;5;8m│\u001b[0m \u001b[38;5;8m\u001b[0m\n",
      "            \u001b[38;5;8m\u001b[0m \u001b[38;5;8m│\u001b[0m⠀\u001b[38;5;2m⠘\u001b[0m⠀\u001b[38;5;2m⠁\u001b[0m⠀\u001b[38;5;2m⠃\u001b[0m⠀\u001b[38;5;2m⠇\u001b[0m⠀\u001b[38;5;2m⠋\u001b[0m\u001b[38;5;2m⠁\u001b[0m⠀⠀⠀⠀\u001b[38;5;2m⠸\u001b[0m⠀⠀⠀⠀\u001b[38;5;2m⠁\u001b[0m⠀⠀⠀\u001b[38;5;2m⠸\u001b[0m⠀⠀\u001b[38;5;2m⠁\u001b[0m\u001b[38;5;2m⡇\u001b[0m⠀\u001b[38;5;2m⢸\u001b[0m⠀⠀⠀\u001b[38;5;2m⠸\u001b[0m⠀⠀⠀⠀\u001b[38;5;2m⠸\u001b[0m\u001b[38;5;8m│\u001b[0m \u001b[38;5;8m\u001b[0m\n",
      "            \u001b[38;5;8m\u001b[0m \u001b[38;5;8m│\u001b[0m⠀⠀⠀⠀⠀⠀⠀⠀⠀⠀⠀⠀⠀⠀⠀⠀⠀⠀⠀⠀⠀⠀⠀⠀⠀⠀⠀⠀\u001b[38;5;2m⡇\u001b[0m⠀\u001b[38;5;2m⢸\u001b[0m⠀⠀⠀⠀⠀⠀⠀⠀⠀\u001b[38;5;8m│\u001b[0m \u001b[38;5;8m\u001b[0m\n",
      "            \u001b[38;5;8m\u001b[0m \u001b[38;5;8m│\u001b[0m⠀⠀⠀⠀⠀⠀⠀⠀⠀⠀⠀⠀⠀⠀⠀⠀⠀⠀⠀⠀⠀⠀⠀⠀⠀⠀⠀⠀\u001b[38;5;2m⠇\u001b[0m⠀\u001b[38;5;2m⠈\u001b[0m⠀⠀⠀⠀⠀⠀⠀⠀⠀\u001b[38;5;8m│\u001b[0m \u001b[38;5;8m\u001b[0m\n",
      "         \u001b[38;5;8m-20\u001b[0m \u001b[38;5;8m│\u001b[0m⠀⠀⠀⠀⠀⠀⠀⠀⠀⠀⠀⠀⠀⠀⠀⠀⠀⠀⠀⠀⠀⠀⠀⠀⠀⠀⠀⠀⠀⠀⠀⠀⠀⠀⠀⠀⠀⠀⠀⠀\u001b[38;5;8m│\u001b[0m \u001b[38;5;8m\u001b[0m\n",
      "             \u001b[38;5;8m└────────────────────────────────────────┘\u001b[0m \n",
      "             ⠀\u001b[38;5;8m0\u001b[0m⠀⠀⠀⠀⠀⠀⠀⠀⠀⠀⠀⠀⠀⠀⠀⠀⠀⠀\u001b[38;5;8m\u001b[0m⠀⠀⠀⠀⠀⠀⠀⠀⠀⠀⠀⠀⠀⠀⠀\u001b[38;5;8m200000\u001b[0m⠀ \n",
      "             ⠀⠀⠀⠀⠀⠀⠀⠀⠀⠀⠀⠀⠀⠀⠀⠀⠀⠀Episode⠀⠀⠀⠀⠀⠀⠀⠀⠀⠀⠀⠀⠀⠀⠀⠀⠀ \n"
     ]
    },
    {
     "data": {
      "text/plain": [
       "TotalRewardPerEpisode([-1.4, -3.849999999999998, -2.500000000000001, -3.0500000000000007, -3.25, -4.049999999999997, -3.9999999999999973, -1.6, -1.5, -1.7000000000000002  …  -6.549999999999988, -1.5499999999999998, -2.0500000000000003, -2.850000000000001, -4.849999999999994, -4.999999999999994, -1.4, -1.8000000000000003, -2.650000000000001, -3.849999999999998], 0.0, true)"
      ]
     },
     "execution_count": 13,
     "metadata": {},
     "output_type": "execute_result"
    }
   ],
   "source": [
    "# uczymy agenta\n",
    "# akcje od 1 do 4\n",
    "# w naszym srodowisku env = frozen lake\n",
    "# przez 200 000 iteracji\n",
    "# chcemy zeby zwrucilo nagrody; wykonuje dzialanie, nie uczy sie\n",
    "run(RandomPolicy(action_space(env)), env, StopAfterEpisode(200_000), hook)"
   ]
  },
  {
   "cell_type": "markdown",
   "id": "0213ea33",
   "metadata": {},
   "source": [
    "or in a more sophisticated case:"
   ]
  },
  {
   "cell_type": "code",
   "execution_count": 14,
   "id": "cfefd5a9",
   "metadata": {
    "ExecuteTime": {
     "end_time": "2023-04-08T11:49:44.608000+02:00",
     "start_time": "2023-04-08T09:49:01.908Z"
    }
   },
   "outputs": [
    {
     "data": {
      "text/plain": [
       "typename(QBasedPolicy)\n",
       "├─ learner => typename(MonteCarloLearner)\n",
       "│  ├─ approximator => typename(TabularApproximator)\n",
       "│  │  ├─ table => 4×64 Matrix{Float64}\n",
       "│  │  └─ optimizer => typename(Flux.Optimise.InvDecay)\n",
       "│  │     ├─ gamma => 1.0\n",
       "│  │     └─ state => typename(IdDict)\n",
       "│  ├─ γ => 0.999\n",
       "│  ├─ kind => typename(ReinforcementLearningZoo.FirstVisit)\n",
       "│  └─ sampling => typename(ReinforcementLearningZoo.NoSampling)\n",
       "└─ explorer => typename(EpsilonGreedyExplorer)\n",
       "   ├─ ϵ_stable => 0.1\n",
       "   ├─ ϵ_init => 1.0\n",
       "   ├─ warmup_steps => 0\n",
       "   ├─ decay_steps => 0\n",
       "   ├─ step => 1\n",
       "   ├─ rng => typename(Random._GLOBAL_RNG)\n",
       "   └─ is_training => true\n"
      ]
     },
     "execution_count": 14,
     "metadata": {},
     "output_type": "execute_result"
    }
   ],
   "source": [
    "mcpolicy = QBasedPolicy(\n",
    "           learner = MonteCarloLearner(\n",
    "                   approximator=TabularQApproximator( # tworzy tabele stan/akcje i wybiera z niej\n",
    "                       ;n_state = length(state_space(env)),\n",
    "                       n_action = length(action_space(env)),\n",
    "                        init = 0.0,\n",
    "                   ),# sa inne opcje, ale pozniej na koljnych zajeciach\n",
    "            γ = 0.999 # beta\n",
    "               ),\n",
    "           explorer = EpsilonGreedyExplorer(0.1)\n",
    "       )\n",
    "# strategia - QBasedPolicy\n",
    "# learner - jak sie uczy\n",
    "# explorer - jak esploruje przestrzen\n"
   ]
  },
  {
   "cell_type": "code",
   "execution_count": 15,
   "id": "fdbbde98",
   "metadata": {
    "ExecuteTime": {
     "end_time": "2023-04-08T11:50:07.409000+02:00",
     "start_time": "2023-04-08T09:49:01.910Z"
    }
   },
   "outputs": [
    {
     "name": "stderr",
     "output_type": "stream",
     "text": [
      "\u001b[32mProgress: 100%|█████████████████████████████████████████| Time: 0:00:22\u001b[39m\n"
     ]
    },
    {
     "name": "stdout",
     "output_type": "stream",
     "text": [
      "              ⠀⠀⠀⠀⠀⠀⠀⠀⠀\u001b[97;1mTotal reward per episode\u001b[0m⠀⠀⠀⠀⠀⠀⠀⠀⠀ \n",
      "              \u001b[38;5;8m┌────────────────────────────────────────┐\u001b[0m \n",
      "          \u001b[38;5;8m100\u001b[0m \u001b[38;5;8m│\u001b[0m⠀⠀⠀⠀⠀⠀⠀⠀⠀⠀⠀⠀⠀⠀⠀⠀⠀⠀⠀⠀⠀⠀⠀⠀⠀⠀⠀⠀⠀⠀⠀⠀⠀⠀⠀⠀⠀⠀⠀⠀\u001b[38;5;8m│\u001b[0m \u001b[38;5;8m\u001b[0m\n",
      "             \u001b[38;5;8m\u001b[0m \u001b[38;5;8m│\u001b[0m⠀⠀⠀⠀⠀⠀⠀⠀⠀⠀⠀⠀⠀⠀⠀⠀⠀⠀⠀⠀⠀⠀⠀⠀⠀⠀⠀⠀⠀⠀⠀⠀⠀⠀⠀⠀⠀⠀⠀⠀\u001b[38;5;8m│\u001b[0m \u001b[38;5;8m\u001b[0m\n",
      "             \u001b[38;5;8m\u001b[0m \u001b[38;5;8m│\u001b[0m⠀⠀⠀⠀⠀⠀⠀⠀⠀⠀⠀⠀⠀⠀⠀⠀⠀⠀⠀⠀⠀⠀⠀⠀⠀⠀⠀⠀⠀⠀⠀⠀⠀⠀⠀⠀⠀⠀⠀⠀\u001b[38;5;8m│\u001b[0m \u001b[38;5;8m\u001b[0m\n",
      "             \u001b[38;5;8m\u001b[0m \u001b[38;5;8m│\u001b[0m⠀⠀⠀⠀⠀⠀⠀⠀⠀⠀⠀⠀⠀⠀⠀⠀⠀⠀⠀⠀⠀⠀⠀⠀⠀⠀⠀⠀⠀⠀⠀⠀⠀⠀⠀⠀⠀⠀⠀⠀\u001b[38;5;8m│\u001b[0m \u001b[38;5;8m\u001b[0m\n",
      "             \u001b[38;5;8m\u001b[0m \u001b[38;5;8m│\u001b[0m⠀\u001b[38;5;2m⢀\u001b[0m⠀⠀⠀⠀\u001b[38;5;2m⢀\u001b[0m\u001b[38;5;2m⢀\u001b[0m⠀⠀⠀\u001b[38;5;2m⢀\u001b[0m⠀⠀\u001b[38;5;2m⢀\u001b[0m\u001b[38;5;2m⡀\u001b[0m⠀⠀⠀⠀⠀⠀⠀⠀⠀⠀⠀⠀⠀⠀⠀⠀⠀⠀⠀⠀⠀⠀⠀⠀\u001b[38;5;8m│\u001b[0m \u001b[38;5;8m\u001b[0m\n",
      "             \u001b[38;5;8m\u001b[0m \u001b[38;5;8m│\u001b[0m\u001b[38;5;2m⠻\u001b[0m\u001b[38;5;2m⠿\u001b[0m\u001b[38;5;2m⠻\u001b[0m\u001b[38;5;2m⠿\u001b[0m\u001b[38;5;2m⠿\u001b[0m\u001b[38;5;2m⠿\u001b[0m\u001b[38;5;2m⠿\u001b[0m\u001b[38;5;2m⠿\u001b[0m\u001b[38;5;2m⠿\u001b[0m\u001b[38;5;2m⠿\u001b[0m\u001b[38;5;2m⠿\u001b[0m\u001b[38;5;2m⠿\u001b[0m\u001b[38;5;2m⠿\u001b[0m\u001b[38;5;2m⠿\u001b[0m\u001b[38;5;2m⡿\u001b[0m\u001b[38;5;2m⡿\u001b[0m\u001b[38;5;2m⠿\u001b[0m\u001b[38;5;2m⠿\u001b[0m\u001b[38;5;2m⠿\u001b[0m\u001b[38;5;2m⠻\u001b[0m\u001b[38;5;2m⣿\u001b[0m\u001b[38;5;2m⣿\u001b[0m\u001b[38;5;2m⣿\u001b[0m\u001b[38;5;2m⣿\u001b[0m\u001b[38;5;2m⣿\u001b[0m\u001b[38;5;2m⣿\u001b[0m\u001b[38;5;2m⣿\u001b[0m\u001b[38;5;2m⣿\u001b[0m\u001b[38;5;2m⣿\u001b[0m\u001b[38;5;2m⣿\u001b[0m\u001b[38;5;2m⣿\u001b[0m\u001b[38;5;2m⣿\u001b[0m\u001b[38;5;2m⣿\u001b[0m\u001b[38;5;2m⣿\u001b[0m\u001b[38;5;2m⣿\u001b[0m\u001b[38;5;2m⣿\u001b[0m\u001b[38;5;2m⣿\u001b[0m\u001b[38;5;2m⣿\u001b[0m\u001b[38;5;2m⣿\u001b[0m\u001b[38;5;2m⣿\u001b[0m\u001b[38;5;8m│\u001b[0m \u001b[38;5;8m\u001b[0m\n",
      "             \u001b[38;5;8m\u001b[0m \u001b[38;5;8m│\u001b[0m⠀⠀⠀⠀⠀⠀⠀⠀⠀⠀⠀⠀⠀⠀⠀⠀⠀⠀⠀⠀\u001b[38;5;2m⣿\u001b[0m\u001b[38;5;2m⣿\u001b[0m\u001b[38;5;2m⣿\u001b[0m\u001b[38;5;2m⣿\u001b[0m\u001b[38;5;2m⣿\u001b[0m\u001b[38;5;2m⣿\u001b[0m\u001b[38;5;2m⣿\u001b[0m\u001b[38;5;2m⣿\u001b[0m\u001b[38;5;2m⣿\u001b[0m\u001b[38;5;2m⣿\u001b[0m\u001b[38;5;2m⣿\u001b[0m\u001b[38;5;2m⣿\u001b[0m\u001b[38;5;2m⣿\u001b[0m\u001b[38;5;2m⣿\u001b[0m\u001b[38;5;2m⣿\u001b[0m\u001b[38;5;2m⣿\u001b[0m\u001b[38;5;2m⣿\u001b[0m\u001b[38;5;2m⣿\u001b[0m\u001b[38;5;2m⣿\u001b[0m\u001b[38;5;2m⣿\u001b[0m\u001b[38;5;8m│\u001b[0m \u001b[38;5;8m\u001b[0m\n",
      "   Score     \u001b[38;5;8m\u001b[0m \u001b[38;5;8m│\u001b[0m⠀⠀⠀⠀⠀⠀⠀⠀⠀⠀⠀⠀⠀⠀⠀⠀⠀⠀⠀⠀\u001b[38;5;2m⣿\u001b[0m\u001b[38;5;2m⣿\u001b[0m\u001b[38;5;2m⣿\u001b[0m\u001b[38;5;2m⣿\u001b[0m\u001b[38;5;2m⣿\u001b[0m\u001b[38;5;2m⣿\u001b[0m\u001b[38;5;2m⣿\u001b[0m\u001b[38;5;2m⣿\u001b[0m\u001b[38;5;2m⣿\u001b[0m\u001b[38;5;2m⣿\u001b[0m\u001b[38;5;2m⣿\u001b[0m\u001b[38;5;2m⣿\u001b[0m\u001b[38;5;2m⣿\u001b[0m\u001b[38;5;2m⣿\u001b[0m\u001b[38;5;2m⣿\u001b[0m\u001b[38;5;2m⣿\u001b[0m\u001b[38;5;2m⣿\u001b[0m\u001b[38;5;2m⣿\u001b[0m\u001b[38;5;2m⣿\u001b[0m\u001b[38;5;2m⣿\u001b[0m\u001b[38;5;8m│\u001b[0m \u001b[38;5;8m\u001b[0m\n",
      "             \u001b[38;5;8m\u001b[0m \u001b[38;5;8m│\u001b[0m⠀⠀⠀⠀⠀⠀⠀⠀⠀⠀⠀⠀⠀⠀⠀⠀⠀⠀⠀⠀\u001b[38;5;2m⣿\u001b[0m\u001b[38;5;2m⣿\u001b[0m\u001b[38;5;2m⣿\u001b[0m\u001b[38;5;2m⣿\u001b[0m\u001b[38;5;2m⣿\u001b[0m\u001b[38;5;2m⣿\u001b[0m\u001b[38;5;2m⣿\u001b[0m\u001b[38;5;2m⣿\u001b[0m\u001b[38;5;2m⣿\u001b[0m\u001b[38;5;2m⣿\u001b[0m\u001b[38;5;2m⣿\u001b[0m\u001b[38;5;2m⣿\u001b[0m\u001b[38;5;2m⣿\u001b[0m\u001b[38;5;2m⣿\u001b[0m\u001b[38;5;2m⣿\u001b[0m\u001b[38;5;2m⣿\u001b[0m\u001b[38;5;2m⣿\u001b[0m\u001b[38;5;2m⣿\u001b[0m\u001b[38;5;2m⣿\u001b[0m\u001b[38;5;2m⣿\u001b[0m\u001b[38;5;8m│\u001b[0m \u001b[38;5;8m\u001b[0m\n",
      "             \u001b[38;5;8m\u001b[0m \u001b[38;5;8m│\u001b[0m⠀⠀⠀⠀⠀⠀⠀⠀⠀⠀⠀⠀⠀⠀⠀⠀⠀⠀⠀⠀\u001b[38;5;2m⣿\u001b[0m\u001b[38;5;2m⣿\u001b[0m\u001b[38;5;2m⡟\u001b[0m\u001b[38;5;2m⣿\u001b[0m\u001b[38;5;2m⣿\u001b[0m\u001b[38;5;2m⢻\u001b[0m\u001b[38;5;2m⣿\u001b[0m\u001b[38;5;2m⡿\u001b[0m\u001b[38;5;2m⣿\u001b[0m\u001b[38;5;2m⡿\u001b[0m\u001b[38;5;2m⣿\u001b[0m\u001b[38;5;2m⡿\u001b[0m\u001b[38;5;2m⠿\u001b[0m\u001b[38;5;2m⡟\u001b[0m\u001b[38;5;2m⣿\u001b[0m\u001b[38;5;2m⣿\u001b[0m\u001b[38;5;2m⣿\u001b[0m\u001b[38;5;2m⣿\u001b[0m\u001b[38;5;2m⣿\u001b[0m\u001b[38;5;2m⣿\u001b[0m\u001b[38;5;8m│\u001b[0m \u001b[38;5;8m\u001b[0m\n",
      "             \u001b[38;5;8m\u001b[0m \u001b[38;5;8m│\u001b[0m⠀⠀⠀⠀⠀⠀⠀⠀⠀⠀⠀⠀⠀⠀⠀⠀⠀⠀⠀⠀\u001b[38;5;2m⣿\u001b[0m\u001b[38;5;2m⠁\u001b[0m\u001b[38;5;2m⡇\u001b[0m\u001b[38;5;2m⠙\u001b[0m\u001b[38;5;2m⠃\u001b[0m\u001b[38;5;2m⢸\u001b[0m\u001b[38;5;2m⠉\u001b[0m⠀\u001b[38;5;2m⢸\u001b[0m\u001b[38;5;2m⠃\u001b[0m\u001b[38;5;2m⡿\u001b[0m\u001b[38;5;2m⠁\u001b[0m⠀\u001b[38;5;2m⠁\u001b[0m\u001b[38;5;2m⣿\u001b[0m\u001b[38;5;2m⡿\u001b[0m\u001b[38;5;2m⡇\u001b[0m\u001b[38;5;2m⠃\u001b[0m\u001b[38;5;2m⣿\u001b[0m\u001b[38;5;2m⢿\u001b[0m\u001b[38;5;8m│\u001b[0m \u001b[38;5;8m\u001b[0m\n",
      "             \u001b[38;5;8m\u001b[0m \u001b[38;5;8m│\u001b[0m⠀⠀⠀⠀⠀⠀⠀⠀⠀⠀⠀⠀⠀⠀⠀⠀⠀⠀⠀⠀\u001b[38;5;2m⠈\u001b[0m⠀\u001b[38;5;2m⠇\u001b[0m⠀⠀⠀⠀⠀\u001b[38;5;2m⠈\u001b[0m⠀⠀⠀⠀⠀\u001b[38;5;2m⡿\u001b[0m⠀\u001b[38;5;2m⠇\u001b[0m⠀\u001b[38;5;2m⠈\u001b[0m\u001b[38;5;2m⠈\u001b[0m\u001b[38;5;8m│\u001b[0m \u001b[38;5;8m\u001b[0m\n",
      "             \u001b[38;5;8m\u001b[0m \u001b[38;5;8m│\u001b[0m⠀⠀⠀⠀⠀⠀⠀⠀⠀⠀⠀⠀⠀⠀⠀⠀⠀⠀⠀⠀⠀⠀⠀⠀⠀⠀⠀⠀⠀⠀⠀⠀⠀⠀\u001b[38;5;2m⠁\u001b[0m⠀⠀⠀⠀⠀\u001b[38;5;8m│\u001b[0m \u001b[38;5;8m\u001b[0m\n",
      "             \u001b[38;5;8m\u001b[0m \u001b[38;5;8m│\u001b[0m⠀⠀⠀⠀⠀⠀⠀⠀⠀⠀⠀⠀⠀⠀⠀⠀⠀⠀⠀⠀⠀⠀⠀⠀⠀⠀⠀⠀⠀⠀⠀⠀⠀⠀⠀⠀⠀⠀⠀⠀\u001b[38;5;8m│\u001b[0m \u001b[38;5;8m\u001b[0m\n",
      "         \u001b[38;5;8m-200\u001b[0m \u001b[38;5;8m│\u001b[0m⠀⠀⠀⠀⠀⠀⠀⠀⠀⠀⠀⠀⠀⠀⠀⠀⠀⠀⠀⠀⠀⠀⠀⠀⠀⠀⠀⠀⠀⠀⠀⠀⠀⠀⠀⠀⠀⠀⠀⠀\u001b[38;5;8m│\u001b[0m \u001b[38;5;8m\u001b[0m\n",
      "              \u001b[38;5;8m└────────────────────────────────────────┘\u001b[0m \n",
      "              ⠀\u001b[38;5;8m0\u001b[0m⠀⠀⠀⠀⠀⠀⠀⠀⠀⠀⠀⠀⠀⠀⠀⠀⠀⠀\u001b[38;5;8m\u001b[0m⠀⠀⠀⠀⠀⠀⠀⠀⠀⠀⠀⠀⠀⠀⠀\u001b[38;5;8m400000\u001b[0m⠀ \n",
      "              ⠀⠀⠀⠀⠀⠀⠀⠀⠀⠀⠀⠀⠀⠀⠀⠀⠀⠀Episode⠀⠀⠀⠀⠀⠀⠀⠀⠀⠀⠀⠀⠀⠀⠀⠀⠀ \n"
     ]
    },
    {
     "data": {
      "text/plain": [
       "TotalRewardPerEpisode([-1.4, -3.849999999999998, -2.500000000000001, -3.0500000000000007, -3.25, -4.049999999999997, -3.9999999999999973, -1.6, -1.5, -1.7000000000000002  …  -15.350000000000069, -10.700000000000003, -6.799999999999987, -3.6499999999999986, -15.050000000000065, -14.550000000000058, -8.349999999999982, -45.949999999999584, -7.699999999999984, -12.300000000000026], 0.0, true)"
      ]
     },
     "execution_count": 15,
     "metadata": {},
     "output_type": "execute_result"
    }
   ],
   "source": [
    "run(mcpolicy, env, StopAfterEpisode(200_000), hook)"
   ]
  },
  {
   "cell_type": "code",
   "execution_count": 16,
   "id": "82c83fd8",
   "metadata": {
    "ExecuteTime": {
     "end_time": "2023-04-08T11:50:07.410000+02:00",
     "start_time": "2023-04-08T09:49:01.911Z"
    }
   },
   "outputs": [],
   "source": [
    "# probuje sie uczyc"
   ]
  },
  {
   "cell_type": "code",
   "execution_count": 17,
   "id": "29d22919",
   "metadata": {
    "ExecuteTime": {
     "end_time": "2023-04-08T11:50:09.996000+02:00",
     "start_time": "2023-04-08T09:49:01.912Z"
    }
   },
   "outputs": [
    {
     "data": {
      "text/plain": [
       "typename(Agent)\n",
       "├─ policy => typename(QBasedPolicy)\n",
       "│  ├─ learner => typename(MonteCarloLearner)\n",
       "│  │  ├─ approximator => typename(TabularApproximator)\n",
       "│  │  │  ├─ table => 4×64 Matrix{Float64}\n",
       "│  │  │  └─ optimizer => typename(Flux.Optimise.InvDecay)\n",
       "│  │  │     ├─ gamma => 1.0\n",
       "│  │  │     └─ state => typename(IdDict)\n",
       "│  │  ├─ γ => 0.999\n",
       "│  │  ├─ kind => typename(ReinforcementLearningZoo.FirstVisit)\n",
       "│  │  └─ sampling => typename(ReinforcementLearningZoo.NoSampling)\n",
       "│  └─ explorer => typename(EpsilonGreedyExplorer)\n",
       "│     ├─ ϵ_stable => 0.1\n",
       "│     ├─ ϵ_init => 1.0\n",
       "│     ├─ warmup_steps => 0\n",
       "│     ├─ decay_steps => 0\n",
       "│     ├─ step => 54777861\n",
       "│     ├─ rng => typename(Random._GLOBAL_RNG)\n",
       "│     └─ is_training => true\n",
       "└─ trajectory => typename(Trajectory)\n",
       "   └─ traces => typename(NamedTuple)\n",
       "      ├─ state => 0-element Vector{Int64}\n",
       "      ├─ action => 0-element Vector{Int64}\n",
       "      ├─ reward => 0-element Vector{Float32}\n",
       "      └─ terminal => 0-element Vector{Bool}\n"
      ]
     },
     "execution_count": 17,
     "metadata": {},
     "output_type": "execute_result"
    }
   ],
   "source": [
    "agentMC = Agent(\n",
    "           policy = mcpolicy,\n",
    "           trajectory = VectorSARTTrajectory() # vektor: stan akcja nagroda ile do konca\n",
    "       )\n",
    "# poza strategii gent musi przechowywac trajektorie "
   ]
  },
  {
   "cell_type": "code",
   "execution_count": 18,
   "id": "1db23f88",
   "metadata": {
    "ExecuteTime": {
     "end_time": "2023-04-08T11:50:21.989000+02:00",
     "start_time": "2023-04-08T09:49:01.913Z"
    }
   },
   "outputs": [
    {
     "name": "stderr",
     "output_type": "stream",
     "text": [
      "\u001b[32mProgress: 100%|█████████████████████████████████████████| Time: 0:00:11\u001b[39m\n"
     ]
    },
    {
     "name": "stdout",
     "output_type": "stream",
     "text": [
      "              ⠀⠀⠀⠀⠀⠀⠀⠀⠀\u001b[97;1mTotal reward per episode\u001b[0m⠀⠀⠀⠀⠀⠀⠀⠀⠀ \n",
      "              \u001b[38;5;8m┌────────────────────────────────────────┐\u001b[0m \n",
      "          \u001b[38;5;8m100\u001b[0m \u001b[38;5;8m│\u001b[0m⠀⠀⠀⠀⠀⠀⠀⠀⠀⠀⠀⠀⠀⠀⠀⠀⠀⠀⠀⠀⠀⠀⠀⠀⠀⠀⠀⠀⠀⠀⠀⠀⠀⠀⠀⠀⠀⠀⠀⠀\u001b[38;5;8m│\u001b[0m \u001b[38;5;8m\u001b[0m\n",
      "             \u001b[38;5;8m\u001b[0m \u001b[38;5;8m│\u001b[0m⠀⠀⠀⠀⠀⠀⠀⠀⠀⠀⠀⠀⠀⠀⠀⠀⠀⠀⠀⠀⠀⠀⠀⠀⠀⠀⠀⠀⠀⠀⠀⠀⠀⠀⠀⠀⠀⠀⠀⠀\u001b[38;5;8m│\u001b[0m \u001b[38;5;8m\u001b[0m\n",
      "             \u001b[38;5;8m\u001b[0m \u001b[38;5;8m│\u001b[0m⠀⠀⠀⠀⠀⠀⠀⠀⠀⠀⠀⠀⠀⠀⠀⠀⠀⠀⠀⠀⠀⠀⠀⠀⠀⠀⠀⠀⠀⠀⠀⠀⠀⠀⠀⠀⠀⠀⠀⠀\u001b[38;5;8m│\u001b[0m \u001b[38;5;8m\u001b[0m\n",
      "             \u001b[38;5;8m\u001b[0m \u001b[38;5;8m│\u001b[0m⠀⠀⠀⠀⠀⠀⠀⠀⠀⠀⠀⠀⠀⠀⠀⠀⠀⠀⠀⠀⠀⠀⠀⠀⠀⠀⠀⠀⠀⠀⠀⠀⠀⠀⠀⠀⠀⠀⠀⠀\u001b[38;5;8m│\u001b[0m \u001b[38;5;8m\u001b[0m\n",
      "             \u001b[38;5;8m\u001b[0m \u001b[38;5;8m│\u001b[0m⠀\u001b[38;5;2m⡀\u001b[0m⠀⠀\u001b[38;5;2m⢀\u001b[0m\u001b[38;5;2m⡀\u001b[0m⠀\u001b[38;5;2m⢀\u001b[0m⠀\u001b[38;5;2m⢀\u001b[0m\u001b[38;5;2m⡀\u001b[0m⠀⠀⠀⠀⠀⠀⠀⠀⠀⠀⠀⠀⠀⠀⠀\u001b[38;5;2m⢀\u001b[0m\u001b[38;5;2m⢀\u001b[0m\u001b[38;5;2m⣀\u001b[0m\u001b[38;5;2m⣀\u001b[0m\u001b[38;5;2m⣀\u001b[0m\u001b[38;5;2m⣀\u001b[0m\u001b[38;5;2m⣀\u001b[0m\u001b[38;5;2m⣀\u001b[0m\u001b[38;5;2m⣀\u001b[0m\u001b[38;5;2m⣀\u001b[0m\u001b[38;5;2m⣀\u001b[0m\u001b[38;5;2m⣀\u001b[0m\u001b[38;5;2m⣀\u001b[0m\u001b[38;5;2m⣀\u001b[0m\u001b[38;5;8m│\u001b[0m \u001b[38;5;8m\u001b[0m\n",
      "             \u001b[38;5;8m\u001b[0m \u001b[38;5;8m│\u001b[0m\u001b[38;5;2m⠻\u001b[0m\u001b[38;5;2m⠿\u001b[0m\u001b[38;5;2m⠿\u001b[0m\u001b[38;5;2m⠿\u001b[0m\u001b[38;5;2m⠿\u001b[0m\u001b[38;5;2m⠿\u001b[0m\u001b[38;5;2m⠿\u001b[0m\u001b[38;5;2m⠿\u001b[0m\u001b[38;5;2m⠿\u001b[0m\u001b[38;5;2m⡿\u001b[0m\u001b[38;5;2m⡿\u001b[0m\u001b[38;5;2m⠿\u001b[0m\u001b[38;5;2m⠿\u001b[0m\u001b[38;5;2m⣿\u001b[0m\u001b[38;5;2m⣿\u001b[0m\u001b[38;5;2m⣿\u001b[0m\u001b[38;5;2m⣿\u001b[0m\u001b[38;5;2m⣿\u001b[0m\u001b[38;5;2m⣿\u001b[0m\u001b[38;5;2m⣿\u001b[0m\u001b[38;5;2m⣿\u001b[0m\u001b[38;5;2m⣿\u001b[0m\u001b[38;5;2m⣿\u001b[0m\u001b[38;5;2m⣿\u001b[0m\u001b[38;5;2m⣿\u001b[0m\u001b[38;5;2m⣿\u001b[0m\u001b[38;5;2m⣿\u001b[0m\u001b[38;5;2m⠋\u001b[0m\u001b[38;5;2m⠋\u001b[0m\u001b[38;5;2m⠉\u001b[0m\u001b[38;5;2m⠉\u001b[0m\u001b[38;5;2m⠉\u001b[0m\u001b[38;5;2m⠉\u001b[0m\u001b[38;5;2m⠉\u001b[0m\u001b[38;5;2m⠉\u001b[0m\u001b[38;5;2m⠉\u001b[0m\u001b[38;5;2m⠉\u001b[0m\u001b[38;5;2m⠉\u001b[0m\u001b[38;5;2m⠉\u001b[0m\u001b[38;5;2m⠉\u001b[0m\u001b[38;5;8m│\u001b[0m \u001b[38;5;8m\u001b[0m\n",
      "             \u001b[38;5;8m\u001b[0m \u001b[38;5;8m│\u001b[0m⠀⠀⠀⠀⠀⠀⠀⠀⠀⠀⠀⠀⠀\u001b[38;5;2m⣿\u001b[0m\u001b[38;5;2m⣿\u001b[0m\u001b[38;5;2m⣿\u001b[0m\u001b[38;5;2m⣿\u001b[0m\u001b[38;5;2m⣿\u001b[0m\u001b[38;5;2m⣿\u001b[0m\u001b[38;5;2m⣿\u001b[0m\u001b[38;5;2m⣿\u001b[0m\u001b[38;5;2m⣿\u001b[0m\u001b[38;5;2m⣿\u001b[0m\u001b[38;5;2m⣿\u001b[0m\u001b[38;5;2m⣿\u001b[0m\u001b[38;5;2m⣿\u001b[0m\u001b[38;5;2m⣿\u001b[0m⠀⠀⠀⠀⠀⠀⠀⠀⠀⠀⠀⠀⠀\u001b[38;5;8m│\u001b[0m \u001b[38;5;8m\u001b[0m\n",
      "   Score     \u001b[38;5;8m\u001b[0m \u001b[38;5;8m│\u001b[0m⠀⠀⠀⠀⠀⠀⠀⠀⠀⠀⠀⠀⠀\u001b[38;5;2m⣿\u001b[0m\u001b[38;5;2m⣿\u001b[0m\u001b[38;5;2m⣿\u001b[0m\u001b[38;5;2m⣿\u001b[0m\u001b[38;5;2m⣿\u001b[0m\u001b[38;5;2m⣿\u001b[0m\u001b[38;5;2m⣿\u001b[0m\u001b[38;5;2m⣿\u001b[0m\u001b[38;5;2m⣿\u001b[0m\u001b[38;5;2m⣿\u001b[0m\u001b[38;5;2m⣿\u001b[0m\u001b[38;5;2m⣿\u001b[0m\u001b[38;5;2m⣿\u001b[0m\u001b[38;5;2m⣿\u001b[0m⠀⠀⠀⠀⠀⠀⠀⠀⠀⠀⠀⠀⠀\u001b[38;5;8m│\u001b[0m \u001b[38;5;8m\u001b[0m\n",
      "             \u001b[38;5;8m\u001b[0m \u001b[38;5;8m│\u001b[0m⠀⠀⠀⠀⠀⠀⠀⠀⠀⠀⠀⠀⠀\u001b[38;5;2m⣿\u001b[0m\u001b[38;5;2m⣿\u001b[0m\u001b[38;5;2m⣿\u001b[0m\u001b[38;5;2m⣿\u001b[0m\u001b[38;5;2m⣿\u001b[0m\u001b[38;5;2m⣿\u001b[0m\u001b[38;5;2m⣿\u001b[0m\u001b[38;5;2m⣿\u001b[0m\u001b[38;5;2m⣿\u001b[0m\u001b[38;5;2m⣿\u001b[0m\u001b[38;5;2m⣿\u001b[0m\u001b[38;5;2m⣿\u001b[0m\u001b[38;5;2m⣿\u001b[0m\u001b[38;5;2m⣿\u001b[0m⠀⠀⠀⠀⠀⠀⠀⠀⠀⠀⠀⠀⠀\u001b[38;5;8m│\u001b[0m \u001b[38;5;8m\u001b[0m\n",
      "             \u001b[38;5;8m\u001b[0m \u001b[38;5;8m│\u001b[0m⠀⠀⠀⠀⠀⠀⠀⠀⠀⠀⠀⠀⠀\u001b[38;5;2m⢹\u001b[0m\u001b[38;5;2m⣿\u001b[0m\u001b[38;5;2m⣿\u001b[0m\u001b[38;5;2m⡿\u001b[0m\u001b[38;5;2m⣿\u001b[0m\u001b[38;5;2m⣿\u001b[0m\u001b[38;5;2m⣿\u001b[0m\u001b[38;5;2m⣿\u001b[0m\u001b[38;5;2m⠿\u001b[0m\u001b[38;5;2m⣿\u001b[0m\u001b[38;5;2m⣿\u001b[0m\u001b[38;5;2m⣿\u001b[0m\u001b[38;5;2m⣿\u001b[0m\u001b[38;5;2m⣿\u001b[0m⠀⠀⠀⠀⠀⠀⠀⠀⠀⠀⠀⠀⠀\u001b[38;5;8m│\u001b[0m \u001b[38;5;8m\u001b[0m\n",
      "             \u001b[38;5;8m\u001b[0m \u001b[38;5;8m│\u001b[0m⠀⠀⠀⠀⠀⠀⠀⠀⠀⠀⠀⠀⠀\u001b[38;5;2m⢸\u001b[0m\u001b[38;5;2m⢹\u001b[0m\u001b[38;5;2m⠙\u001b[0m\u001b[38;5;2m⠃\u001b[0m\u001b[38;5;2m⡏\u001b[0m⠀\u001b[38;5;2m⡟\u001b[0m\u001b[38;5;2m⡏\u001b[0m⠀\u001b[38;5;2m⢹\u001b[0m\u001b[38;5;2m⣿\u001b[0m\u001b[38;5;2m⡟\u001b[0m\u001b[38;5;2m⢸\u001b[0m\u001b[38;5;2m⢿\u001b[0m⠀⠀⠀⠀⠀⠀⠀⠀⠀⠀⠀⠀⠀\u001b[38;5;8m│\u001b[0m \u001b[38;5;8m\u001b[0m\n",
      "             \u001b[38;5;8m\u001b[0m \u001b[38;5;8m│\u001b[0m⠀⠀⠀⠀⠀⠀⠀⠀⠀⠀⠀⠀⠀\u001b[38;5;2m⠈\u001b[0m\u001b[38;5;2m⠸\u001b[0m⠀⠀⠀⠀\u001b[38;5;2m⠁\u001b[0m⠀⠀\u001b[38;5;2m⢸\u001b[0m\u001b[38;5;2m⠇\u001b[0m\u001b[38;5;2m⠇\u001b[0m\u001b[38;5;2m⠈\u001b[0m\u001b[38;5;2m⠈\u001b[0m⠀⠀⠀⠀⠀⠀⠀⠀⠀⠀⠀⠀⠀\u001b[38;5;8m│\u001b[0m \u001b[38;5;8m\u001b[0m\n",
      "             \u001b[38;5;8m\u001b[0m \u001b[38;5;8m│\u001b[0m⠀⠀⠀⠀⠀⠀⠀⠀⠀⠀⠀⠀⠀⠀⠀⠀⠀⠀⠀⠀⠀⠀\u001b[38;5;2m⠈\u001b[0m⠀⠀⠀⠀⠀⠀⠀⠀⠀⠀⠀⠀⠀⠀⠀⠀⠀\u001b[38;5;8m│\u001b[0m \u001b[38;5;8m\u001b[0m\n",
      "             \u001b[38;5;8m\u001b[0m \u001b[38;5;8m│\u001b[0m⠀⠀⠀⠀⠀⠀⠀⠀⠀⠀⠀⠀⠀⠀⠀⠀⠀⠀⠀⠀⠀⠀⠀⠀⠀⠀⠀⠀⠀⠀⠀⠀⠀⠀⠀⠀⠀⠀⠀⠀\u001b[38;5;8m│\u001b[0m \u001b[38;5;8m\u001b[0m\n",
      "         \u001b[38;5;8m-200\u001b[0m \u001b[38;5;8m│\u001b[0m⠀⠀⠀⠀⠀⠀⠀⠀⠀⠀⠀⠀⠀⠀⠀⠀⠀⠀⠀⠀⠀⠀⠀⠀⠀⠀⠀⠀⠀⠀⠀⠀⠀⠀⠀⠀⠀⠀⠀⠀\u001b[38;5;8m│\u001b[0m \u001b[38;5;8m\u001b[0m\n",
      "              \u001b[38;5;8m└────────────────────────────────────────┘\u001b[0m \n",
      "              ⠀\u001b[38;5;8m0\u001b[0m⠀⠀⠀⠀⠀⠀⠀⠀⠀⠀⠀⠀⠀⠀⠀⠀⠀⠀\u001b[38;5;8m\u001b[0m⠀⠀⠀⠀⠀⠀⠀⠀⠀⠀⠀⠀⠀⠀⠀\u001b[38;5;8m600000\u001b[0m⠀ \n",
      "              ⠀⠀⠀⠀⠀⠀⠀⠀⠀⠀⠀⠀⠀⠀⠀⠀⠀⠀Episode⠀⠀⠀⠀⠀⠀⠀⠀⠀⠀⠀⠀⠀⠀⠀⠀⠀ \n"
     ]
    },
    {
     "data": {
      "text/plain": [
       "TotalRewardPerEpisode([-1.4, -3.849999999999998, -2.500000000000001, -3.0500000000000007, -3.25, -4.049999999999997, -3.9999999999999973, -1.6, -1.5, -1.7000000000000002  …  -1.4, -1.85, -1.35, 0.09999999999999976, -1.9500000000000002, -1.45, 0.2499999999999999, -0.10000000000000031, -1.45, -2.1000000000000005], 0.0, true)"
      ]
     },
     "execution_count": 18,
     "metadata": {},
     "output_type": "execute_result"
    }
   ],
   "source": [
    "run(agentMC, env, StopAfterEpisode(200_000), hook)"
   ]
  },
  {
   "cell_type": "markdown",
   "id": "2cb73ae8",
   "metadata": {},
   "source": [
    "co sie tutaj dzieje?\n",
    "uczy sie losowo, potem pada w przelebli a potem uczy sie ze musi przyjsc trase"
   ]
  },
  {
   "cell_type": "markdown",
   "id": "79a57c1f",
   "metadata": {},
   "source": [
    "After learning how to build agents with the [<tt>ReinforcementLearning.jl</tt>]( https://juliareinforcementlearning.org/) package, we could implement our own agent and understand the logic of the Monte Carlo algorithm:"
   ]
  },
  {
   "cell_type": "markdown",
   "id": "31d51848",
   "metadata": {},
   "source": [
    "tworzymy agenta samodzielnie. srodowsiko, epsilon, dyskonto, strategia, licznik odwiedzin, funkcja Q"
   ]
  },
  {
   "cell_type": "code",
   "execution_count": 19,
   "id": "27d2e9a9",
   "metadata": {
    "ExecuteTime": {
     "end_time": "2023-04-08T11:50:22.007000+02:00",
     "start_time": "2023-04-08T09:49:01.915Z"
    }
   },
   "outputs": [
    {
     "data": {
      "text/plain": [
       "AgentMC"
      ]
     },
     "execution_count": 19,
     "metadata": {},
     "output_type": "execute_result"
    }
   ],
   "source": [
    "mutable struct AgentMC\n",
    "    env::FrozenLakeEnv\n",
    "    ϵ::Float64\n",
    "    β::Float64 #stopa dyskonta\n",
    "    Q::Array{Float64,2}#macierz wartosci dla kazdej z par:stan,akcja\n",
    "    C::Array{Float64,2} #macierz wystapien dla kazdej z par:stan,akcja\n",
    "    π::Array{Int} #strategia agenta\n",
    "end\n",
    "\n",
    "# twzorzymy konstruktow obikta\n",
    "\n",
    "# ϵ = .2 => zachlannie w 20% przypadkach, w pozostalych losowo\n",
    "function AgentMC(env; ϵ = .2, β = 0.999)\n",
    "    return AgentMC(env,ϵ, β,\n",
    "        zeros(length(env.world), length(action_space(env))),  # macierz wartosci z 0\n",
    "        zeros(length(env.world), length(action_space(env))),  # macierz odwiedzin z 0\n",
    "        rand(1:length(action_space(env)),length(env.world)))  # strategia, czyli kierunki ruchu\n",
    "end"
   ]
  },
  {
   "cell_type": "markdown",
   "id": "c1f47b63",
   "metadata": {},
   "source": [
    "Now, we could implement the logic of the learning process:"
   ]
  },
  {
   "cell_type": "markdown",
   "id": "14c51593",
   "metadata": {},
   "source": [
    "wez agenta, jakas strategie pi:\n",
    "\n"
   ]
  },
  {
   "cell_type": "code",
   "execution_count": 20,
   "id": "3f29a0fa",
   "metadata": {
    "ExecuteTime": {
     "end_time": "2023-04-08T11:50:22.199000+02:00",
     "start_time": "2023-04-08T09:49:01.917Z"
    }
   },
   "outputs": [
    {
     "data": {
      "text/plain": [
       "get_episode (generic function with 2 methods)"
      ]
     },
     "execution_count": 20,
     "metadata": {},
     "output_type": "execute_result"
    }
   ],
   "source": [
    "function get_episode(agent, π = agent.π; maxstep = 1000)\n",
    "    step = 1\n",
    "    # czy agent ksploruje przestrzen czy nie\n",
    "    if agent.env.ES == true \n",
    "        S = rand(state_space(agent.env)) \n",
    "        action = rand(action_space(agent.env))\n",
    "    else\n",
    "        S = 1\n",
    "        rand() < agent.ϵ ? action = rand(action_space(agent.env)) : action = π[S]\n",
    "    end\n",
    "    agent.env(action)  # wez srodowisko, wykonaj akcje\n",
    "    r = agent.env.reward # wyciagni nagrode\n",
    "    episode = [(S, action, r)] # uzupelnij epizod\n",
    "    if is_terminated(agent.env)  # sprawdz czy przypadkem nie jest to juz koniec gry\n",
    "        reset!(agent.env) # jezeli tak, to skoncz\n",
    "        return episode\n",
    "    end\n",
    "    while step < maxstep # jezeli nie to chodz do petli i powtarzaj:\n",
    "        S = state(agent.env) # generuj stan\n",
    "        # wybierz akcje za pomoca strategii zachlannej\n",
    "        (rand() < agent.ϵ) && (agent.env.ES == false) ? action = rand(action_space(agent.env)) : action = π[S]\n",
    "        agent.env(action) # wykonaj akcje\n",
    "        r = agent.env.reward # dostaj nagrode\n",
    "        push!(episode, (S, action,r)) # uzupelnij epizod ten kolejna kropka: stan akcja nagroda\n",
    "        if is_terminated(agent.env) # sprawdz warunek terminacji\n",
    "            reset!(agent.env)\n",
    "            break\n",
    "        end\n",
    "        step +=1\n",
    "    end\n",
    "    return episode\n",
    "end"
   ]
  },
  {
   "cell_type": "code",
   "execution_count": 21,
   "id": "e9046b1c",
   "metadata": {
    "ExecuteTime": {
     "end_time": "2023-04-08T11:50:22.283000+02:00",
     "start_time": "2023-04-08T09:49:01.918Z"
    }
   },
   "outputs": [
    {
     "data": {
      "text/plain": [
       "update! (generic function with 1 method)"
      ]
     },
     "execution_count": 21,
     "metadata": {},
     "output_type": "execute_result"
    }
   ],
   "source": [
    "function update!(agent)\n",
    "    episode = get_episode(agent) # generuj epizod\n",
    "    R = 0 # zerujemy nagrode\n",
    "    \n",
    "    # every visit jest prostrza bo po prostu odwracamy episody i idziemy od konca 1-ą petlą.\n",
    "    \n",
    "    # 1 petla:\n",
    "    # bierzy unikalne krotki ktore wystepuja w dannym epizodzie\n",
    "    # generuje unikalne krotki stan akcja nagroda z tego (usuwa duplicaty)\n",
    "    # dalej findfirst; = wysortuj piewsze wystapienia tego unikalnego elementu\n",
    "    # skonkaternuj to z dlugoscia epizodu\n",
    "    occur_first = reverse(vcat(findfirst.(isequal.(unique(episode)), [episode]), length(episode) + 1))\n",
    "    \n",
    "    # w ogole dostajemy wlasnie unikatowe wartosci bo moze byc tak że kroki bedą się powturzaly: \n",
    "    # mozemy sie przeciez posliznąc\n",
    "    \n",
    "    for k = 2:length(occur_first) \n",
    "        for i = occur_first[k-1] - 1:-1:occur_first[k]\n",
    "            state,action,r = episode[i]\n",
    "            R = agent.β*R + r   # dla kazdego kroku osobno uzupelniamy nasze calkowite R \n",
    "                                # (nagrodę strategii)\n",
    "        end\n",
    "        state,action,r = episode[occur_first[k]]\n",
    "        agent.C[state,action] += 1 # uzupelnij licznik odwiedzin\n",
    "        agent.Q[state,action] += (R - agent.Q[state,action])/ agent.C[state,action] \n",
    "        # uzupelnij srednia nagrode\n",
    "        agent.π[state] = argmax(agent.Q[state,:]) # uzupelnij (polepsz) strategie\n",
    "    end  \n",
    "    episode[end][3] == 1.0 ? (return 1.0) : (return 0.0) # sukcesywna iteracja czy nie\n",
    "end"
   ]
  },
  {
   "cell_type": "markdown",
   "id": "53b07781",
   "metadata": {},
   "source": [
    "dalej definiujemy funkcje ktora bedzie kontrolowala uczenie - czyli bedzie modyfikowala agenta\n",
    "\n",
    "! - modyfikuje rzeczy\n",
    "bez ! - nie modyfikuje\n",
    "\n",
    "tylko konwencja\n",
    "\n"
   ]
  },
  {
   "cell_type": "code",
   "execution_count": 22,
   "id": "fdb70dc0",
   "metadata": {
    "ExecuteTime": {
     "end_time": "2023-04-08T11:50:22.378000+02:00",
     "start_time": "2023-04-08T09:49:01.920Z"
    }
   },
   "outputs": [
    {
     "data": {
      "text/plain": [
       "MC! (generic function with 1 method)"
      ]
     },
     "execution_count": 22,
     "metadata": {},
     "output_type": "execute_result"
    }
   ],
   "source": [
    "# funnkcja mowi ze:\n",
    "# przez 100 000 iteracji odpalaj agenta, zbieraj dane\n",
    "function MC!(agent; maxit = 100000)\n",
    "    iter = 0\n",
    "    successes = 0.0\n",
    "    success_rate = []\n",
    "    while iter < maxit\n",
    "        successes += update!(agent)\n",
    "        push!(success_rate, successes/iter)\n",
    "        iter +=1\n",
    "    end\n",
    "    return success_rate\n",
    "end"
   ]
  },
  {
   "cell_type": "markdown",
   "id": "c9b29ad2",
   "metadata": {},
   "source": [
    "Finally, we could run the experiments and take a look at the results:"
   ]
  },
  {
   "cell_type": "code",
   "execution_count": 23,
   "id": "7eb54f1c",
   "metadata": {
    "ExecuteTime": {
     "end_time": "2023-04-08T11:50:30.740000+02:00",
     "start_time": "2023-04-08T09:49:01.921Z"
    }
   },
   "outputs": [
    {
     "data": {
      "text/plain": [
       "4×4 Matrix{Char}:\n",
       " '⇓'  '⇐'  '⇓'  '⇐'\n",
       " '⇓'  '⦷'  '⇓'  '⦷'\n",
       " '⇒'  '⇓'  '⇓'  '⦷'\n",
       " '⦷'  '⇒'  '⇒'  'G'"
      ]
     },
     "execution_count": 23,
     "metadata": {},
     "output_type": "execute_result"
    }
   ],
   "source": [
    "# exploring starts \n",
    "agent = AgentMC(FrozenLakeEnv(:grid4x4, ES = true));\n",
    "MC!(agent, maxit = 500_000)\n",
    "print_policy(agent.π, agent.env.world)"
   ]
  },
  {
   "cell_type": "code",
   "execution_count": 24,
   "id": "093b20f8",
   "metadata": {
    "ExecuteTime": {
     "end_time": "2023-04-08T11:50:35.716000+02:00",
     "start_time": "2023-04-08T09:49:01.922Z"
    }
   },
   "outputs": [
    {
     "data": {
      "text/plain": [
       "4×4 Matrix{Char}:\n",
       " '⇓'  '⇓'  '⇓'  '⇓'\n",
       " '⇒'  '⦷'  '⇓'  '⦷'\n",
       " '⇓'  '⇒'  '⇓'  '⦷'\n",
       " '⦷'  '⇐'  '⇒'  'G'"
      ]
     },
     "execution_count": 24,
     "metadata": {},
     "output_type": "execute_result"
    }
   ],
   "source": [
    "# without exploring starts\n",
    "# agent nie moze uczyc sie kiedy greedy\n",
    "# bedzie eksplorowal dla eksploracji\n",
    "agent = AgentMC(FrozenLakeEnv(:grid4x4, ES = false), ϵ = 0.0);\n",
    "success_rate = MC!(agent; maxit = 500_000)\n",
    "print_policy(agent.π, agent.env.world)"
   ]
  },
  {
   "cell_type": "code",
   "execution_count": 25,
   "id": "19d0302d",
   "metadata": {
    "ExecuteTime": {
     "end_time": "2023-04-08T11:50:39.328000+02:00",
     "start_time": "2023-04-08T09:49:01.923Z"
    },
    "scrolled": true
   },
   "outputs": [
    {
     "data": {
      "image/png": "[encoded data removed]",
      "text/plain": [
       "Figure(PyObject <Figure size 640x480 with 1 Axes>)"
      ]
     },
     "metadata": {},
     "output_type": "display_data"
    },
    {
     "data": {
      "text/plain": [
       "PyObject Text(24.0, 0.5, 'success rate')"
      ]
     },
     "execution_count": 25,
     "metadata": {},
     "output_type": "execute_result"
    }
   ],
   "source": [
    "plot(success_rate[2:end])\n",
    "xlabel(\"Time\")\n",
    "ylabel(\"success rate\")"
   ]
  },
  {
   "cell_type": "code",
   "execution_count": null,
   "id": "ca452f60",
   "metadata": {},
   "outputs": [],
   "source": []
  }
 ],
 "metadata": {
  "kernelspec": {
   "display_name": "Julia 1.8.2",
   "language": "julia",
   "name": "julia-1.8"
  },
  "language_info": {
   "file_extension": ".jl",
   "mimetype": "application/julia",
   "name": "julia",
   "version": "1.8.2"
  },
  "toc": {
   "base_numbering": 1,
   "nav_menu": {},
   "number_sections": true,
   "sideBar": true,
   "skip_h1_title": false,
   "title_cell": "Table of Contents",
   "title_sidebar": "Contents",
   "toc_cell": false,
   "toc_position": {},
   "toc_section_display": true,
   "toc_window_display": false
  },
  "varInspector": {
   "cols": {
    "lenName": 16,
    "lenType": 16,
    "lenVar": 40
   },
   "kernels_config": {
    "python": {
     "delete_cmd_postfix": "",
     "delete_cmd_prefix": "del ",
     "library": "var_list.py",
     "varRefreshCmd": "print(var_dic_list())"
    },
    "r": {
     "delete_cmd_postfix": ") ",
     "delete_cmd_prefix": "rm(",
     "library": "var_list.r",
     "varRefreshCmd": "cat(var_dic_list()) "
    }
   },
   "types_to_exclude": [
    "module",
    "function",
    "builtin_function_or_method",
    "instance",
    "_Feature"
   ],
   "window_display": false
  }
 },
 "nbformat": 4,
 "nbformat_minor": 5
}
