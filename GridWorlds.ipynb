{
 "cells": [
  {
   "cell_type": "markdown",
   "id": "2d17b8fe",
   "metadata": {
    "heading_collapsed": true
   },
   "source": [
    "# Presets"
   ]
  },
  {
   "cell_type": "code",
   "execution_count": 1,
   "id": "b2781268",
   "metadata": {
    "ExecuteTime": {
     "end_time": "2023-04-12T18:38:53.873000+02:00",
     "start_time": "2023-04-12T16:38:49.749Z"
    },
    "hidden": true
   },
   "outputs": [],
   "source": [
    "using ReinforcementLearningBase, GridWorlds\n",
    "using PyPlot"
   ]
  },
  {
   "cell_type": "code",
   "execution_count": 2,
   "id": "b94e46b9",
   "metadata": {
    "ExecuteTime": {
     "end_time": "2023-04-12T18:38:56.016000+02:00",
     "start_time": "2023-04-12T16:38:49.751Z"
    },
    "hidden": true
   },
   "outputs": [],
   "source": [
    "using Statistics"
   ]
  },
  {
   "cell_type": "code",
   "execution_count": 3,
   "id": "2afcbaf3",
   "metadata": {
    "ExecuteTime": {
     "end_time": "2023-04-12T18:38:56.425000+02:00",
     "start_time": "2023-04-12T16:38:49.752Z"
    },
    "hidden": true
   },
   "outputs": [],
   "source": [
    "world = GridWorlds.GridRoomsDirectedModule.GridRoomsDirected();\n",
    "env = GridWorlds.RLBaseEnv(world);"
   ]
  },
  {
   "cell_type": "markdown",
   "id": "fd6ef2a2",
   "metadata": {
    "heading_collapsed": true
   },
   "source": [
    "# Defining Agent"
   ]
  },
  {
   "cell_type": "code",
   "execution_count": 4,
   "id": "cc64faa3",
   "metadata": {
    "ExecuteTime": {
     "end_time": "2023-04-12T18:38:56.430000+02:00",
     "start_time": "2023-04-12T16:38:49.754Z"
    },
    "hidden": true
   },
   "outputs": [],
   "source": [
    "mutable struct Agent\n",
    "    env::AbstractEnv\n",
    "    algo::Symbol\n",
    "    ϵ::Float64        # współczynnik eksploracji\n",
    "    ϵ_decay::Float64\n",
    "    ϵ_min::Float64\n",
    "    β::Float64        # dyskonto\n",
    "    α::Float64        # stopa uczenia się\n",
    "    Q::Dict\n",
    "    E::Dict           # słownik dla przechowywania pary state-action\n",
    "    score::Int        # wynik - ile razy agent dotarl do mety\n",
    "    steps_per_episode::Vector{Float64} # ile trwal przecietny epizod\n",
    "end;\n",
    "\n",
    "function Agent(env, algo; ϵ = 1.0, ϵ_decay = 0.9975, ϵ_min = 0.005, β = 0.99, α = 0.1) \n",
    "    Agent(env, algo, ϵ, ϵ_decay, ϵ_min, β, α, Dict(), Dict(), 0, [0.0,])\n",
    "end;"
   ]
  },
  {
   "cell_type": "markdown",
   "id": "3e7f51f5",
   "metadata": {
    "heading_collapsed": true
   },
   "source": [
    "# SARSA(0) functions"
   ]
  },
  {
   "cell_type": "code",
   "execution_count": 5,
   "id": "8b66e0ae",
   "metadata": {
    "ExecuteTime": {
     "end_time": "2023-04-12T18:38:56.432000+02:00",
     "start_time": "2023-04-12T16:38:49.755Z"
    },
    "hidden": true
   },
   "outputs": [],
   "source": [
    "function learn!(agent, S, A, r, S′,A′)\n",
    "    if !haskey(agent.Q, S)\n",
    "        agent.Q[S] = zeros(length(action_space(agent.env)))\n",
    "        agent.Q[S][A] = r\n",
    "    else\n",
    "        Q_S′ = 0.0\n",
    "        haskey(agent.Q, S′) && (Q_S′ += agent.Q[S′][A′])\n",
    "        agent.Q[S][A] += agent.α * (r + agent.β*Q_S′ - agent.Q[S][A])\n",
    "    end\n",
    "end;"
   ]
  },
  {
   "cell_type": "code",
   "execution_count": 6,
   "id": "a2c2d78e",
   "metadata": {
    "ExecuteTime": {
     "end_time": "2023-04-12T18:38:56.442000+02:00",
     "start_time": "2023-04-12T16:38:49.756Z"
    },
    "hidden": true
   },
   "outputs": [],
   "source": [
    "function run_learning!(agent, steps; burning = true, animated = nothing) \n",
    "    step = 1.0\n",
    "    steps_per_episode = 1.0\n",
    "    episode = 1.0\n",
    "    if !isnothing(animated)\n",
    "        global str = \"\"\n",
    "        global str = str * \"FRAME_START_DELIMITER\"\n",
    "        global str = str * \"step: $(step)\\n\"\n",
    "        global str = str * \"episode: $(episode)\\n\"\n",
    "        global str = str * repr(MIME\"text/plain\"(), env)\n",
    "        global str = str * \"\\ntotal_reward: 0\"\n",
    "    end\n",
    "    while step <= steps\n",
    "        if (burning && step < 0.1*steps) || rand() < agent.ϵ || !haskey(agent.Q, state(agent.env))\n",
    "            A = rand(1:length(action_space(agent.env)))\n",
    "        else \n",
    "            A = argmax(agent.Q[state(agent.env)])\n",
    "        end\n",
    "        S = deepcopy(state(agent.env))\n",
    "        agent.env(action_space(agent.env)[A])\n",
    "        r = reward(agent.env)\n",
    "        S′ = deepcopy(state(agent.env))\n",
    "        if agent.algo == :SARSA\n",
    "            if (burning && step < 0.1 * steps) || rand() < agent.ϵ || !haskey(agent.Q, state(agent.env))\n",
    "                A′ = rand(1:length(action_space(agent.env)))\n",
    "            else \n",
    "                A′ = argmax(agent.Q[state(agent.env)])\n",
    "            end\n",
    "            learn!(agent, S, A, r, S′,A′)\n",
    "        else\n",
    "            learn!(agent, S, A, r, S′)\n",
    "        end\n",
    "        if !isnothing(animated) \n",
    "            global str = str * \"FRAME_START_DELIMITER\"\n",
    "            global str = str * \"step: $(step)\\n\"\n",
    "            global str = str * \"episode: $(episode)\\n\"\n",
    "            global str = str * repr(MIME\"text/plain\"(), env)\n",
    "            global str = str * \"\\ntotal_reward: $(agent.score)\"\n",
    "        end\n",
    "        if is_terminated(agent.env)\n",
    "            eps = agent.ϵ * agent.ϵ_decay\n",
    "            agent.ϵ = max(agent.ϵ_min, eps)\n",
    "            agent.score += 1.0\n",
    "            push!(agent.steps_per_episode, \n",
    "                agent.steps_per_episode[end] + (steps_per_episode - agent.steps_per_episode[end])/episode)\n",
    "            episode += 1.0\n",
    "            steps_per_episode = 0\n",
    "            reset!(agent.env)\n",
    "        end\n",
    "        step += 1.0 \n",
    "        steps_per_episode += 1.0\n",
    "    end\n",
    "    if !isnothing(animated) \n",
    "        write(animated * \".txt\", str)\n",
    "    end\n",
    "end;"
   ]
  },
  {
   "cell_type": "markdown",
   "id": "d3dcb87d",
   "metadata": {
    "heading_collapsed": true
   },
   "source": [
    "# SARSA(λ) functions"
   ]
  },
  {
   "cell_type": "code",
   "execution_count": 7,
   "id": "ed42e3ee",
   "metadata": {
    "ExecuteTime": {
     "end_time": "2023-04-12T18:38:56.447000+02:00",
     "start_time": "2023-04-12T16:38:49.757Z"
    },
    "hidden": true
   },
   "outputs": [],
   "source": [
    "function check_visualization(env, agent, animated, step, episode)\n",
    "    if !isnothing(animated)\n",
    "        global str = \"\"\n",
    "        global str = str * \"FRAME_START_DELIMITER\"\n",
    "        global str = str * \"step: $(step)\\n\"\n",
    "        global str = str * \"episode: $(episode)\\n\"\n",
    "        global str = str * repr(MIME\"text/plain\"(), env)\n",
    "        global str = str * \"\\ntotal_reward: $(agent.score)\"\n",
    "    end\n",
    "end;\n",
    "\n",
    "function make_action(agent, burning, step, steps)\n",
    "    if (burning && step < 0.1*steps) || rand() < agent.ϵ || !haskey(agent.Q, state(agent.env))\n",
    "        A = rand(1:length(action_space(agent.env)))\n",
    "    else \n",
    "        A = argmax(agent.Q[state(agent.env)])\n",
    "    end\n",
    "    return A\n",
    "end;\n",
    "\n",
    "function check_Q!(agent, S, A, S′, A′, r)\n",
    "    if !haskey(agent.Q, S)\n",
    "        agent.Q[S] = zeros(length(action_space(agent.env)))\n",
    "    end\n",
    "    if !haskey(agent.Q, S′)\n",
    "        agent.Q[S′] = zeros(length(action_space(agent.env)))\n",
    "    end\n",
    "end;\n",
    "\n",
    "function check_E!(agent, S)\n",
    "    if !haskey(agent.E, S)\n",
    "        agent.E[S] = zeros(length(action_space(agent.env)))\n",
    "    end\n",
    "end;"
   ]
  },
  {
   "cell_type": "code",
   "execution_count": 8,
   "id": "53984022",
   "metadata": {
    "ExecuteTime": {
     "end_time": "2023-04-12T18:38:56.453000+02:00",
     "start_time": "2023-04-12T16:38:49.758Z"
    },
    "code_folding": [],
    "hidden": true
   },
   "outputs": [],
   "source": [
    "function run_learning_lambda!(agent; steps = 250_000, λ = 1, burning = true, animated = nothing)\n",
    "    step = 1.0\n",
    "    steps_per_episode = 1.0\n",
    "    episode = 1.0\n",
    "    check_visualization(env, agent, animated, step, episode)\n",
    "    \n",
    "    while step <= steps\n",
    "        S = deepcopy(state(agent.env))                  # stan pierwotny\n",
    "        A = make_action(agent, burning, step, steps)    # wybierz akcję na podstawie strategii\n",
    "        agent.env(action_space(agent.env)[A])           # zrób akcję\n",
    "        r = reward(agent.env)                           # przypisz nagrodę\n",
    "        S′ = deepcopy(state(agent.env))                 # oblicz kolejny stan\n",
    "        A′ = make_action(agent, burning, step, steps)   # wybierz kolejną akcję\n",
    "            \n",
    "        check_Q!(agent, S, A, S′, A′, r)     # sprawdź czy istnieją nagrody dla stanów S i S′       \n",
    "        # oblicz deltę (temporal difference, TD)\n",
    "        δ = r + agent.β*agent.Q[S′][A′] - agent.Q[S][A]\n",
    "        check_E!(agent, S)                   # sprawdź czy istnieje licznik akcji dla stanu S\n",
    "        agent.E[S][A] += 1                   # uaktulizuj licznik akcji A dla stanu S\n",
    "            \n",
    "        check_visualization(env, agent, animated, step, episode)\n",
    "            \n",
    "        # dla każdego stanu uaktualizuj licznik oraz nagrody\n",
    "        for s = 1:length(length(agent.Q))\n",
    "            for a = 1:length(action_space(agent.env))\n",
    "                agent.Q[S][A] = agent.Q[S][A] + agent.α*δ*agent.E[S][A]\n",
    "                agent.E[S][A] = agent.β*λ*agent.E[S][A]\n",
    "            end\n",
    "        end\n",
    "            \n",
    "        # przejdź do kolejnego stanu\n",
    "        S = deepcopy(S′) \n",
    "        A = deepcopy(A′)\n",
    "            \n",
    "        # sprawdź warunek terminacji\n",
    "        if is_terminated(agent.env)\n",
    "            eps = agent.ϵ * agent.ϵ_decay       # uaktulizuj skłoność do losowego przeszukiwania\n",
    "            agent.ϵ = max(agent.ϵ_min, eps)\n",
    "            agent.score += 1.0                  # uaktualizuj licznik wygranych gier\n",
    "            push!(\n",
    "                agent.steps_per_episode,\n",
    "                (agent.steps_per_episode[end] + \n",
    "                (steps_per_episode - agent.steps_per_episode[end])/episode)\n",
    "            )\n",
    "            episode += 1.0\n",
    "            steps_per_episode = 0\n",
    "            # zresetuj agenta i przejdz do kolejnego epizodu(jeżeli jeszcze są)\n",
    "            reset!(agent.env) \n",
    "            continue\n",
    "        end\n",
    "        step += 1.0 \n",
    "        steps_per_episode += 1.0\n",
    "    end\n",
    "    if !isnothing(animated) \n",
    "        write(animated * \".txt\", str)\n",
    "    end\n",
    "end;"
   ]
  },
  {
   "cell_type": "markdown",
   "id": "c63989a6",
   "metadata": {},
   "source": [
    "# Comparing SARSAs"
   ]
  },
  {
   "cell_type": "code",
   "execution_count": 9,
   "id": "42ec6e83",
   "metadata": {
    "ExecuteTime": {
     "end_time": "2023-04-12T18:39:27.897000+02:00",
     "start_time": "2023-04-12T16:38:49.759Z"
    }
   },
   "outputs": [
    {
     "name": "stderr",
     "output_type": "stream",
     "text": [
      "\u001b[36m\u001b[1m[ \u001b[22m\u001b[39m\u001b[36m\u001b[1mInfo: \u001b[22m\u001b[39magent(λ=0) score: 661\n",
      "\u001b[36m\u001b[1m[ \u001b[22m\u001b[39m\u001b[36m\u001b[1mInfo: \u001b[22m\u001b[39magent(λ=0.25) score: 672\n",
      "\u001b[36m\u001b[1m[ \u001b[22m\u001b[39m\u001b[36m\u001b[1mInfo: \u001b[22m\u001b[39magent(λ=0.5) score: 729\n",
      "\u001b[36m\u001b[1m[ \u001b[22m\u001b[39m\u001b[36m\u001b[1mInfo: \u001b[22m\u001b[39magent(λ=0.75) score: 668\n",
      "\u001b[36m\u001b[1m[ \u001b[22m\u001b[39m\u001b[36m\u001b[1mInfo: \u001b[22m\u001b[39magent(λ=1) score: 710\n"
     ]
    }
   ],
   "source": [
    "n_steps = 250_000\n",
    "\n",
    "agent_SARSA0 = Agent(env,:SARSA);\n",
    "run_learning!(agent_SARSA0, n_steps)\n",
    "@info \"agent(λ=0) score: $(agent_SARSA0.score)\"\n",
    "\n",
    "agent_SARSA025 = Agent(env,:SARSA);\n",
    "run_learning_lambda!(agent_SARSA025, steps=n_steps, λ = 0.25)\n",
    "@info \"agent(λ=0.25) score: $(agent_SARSA025.score)\"\n",
    "\n",
    "agent_SARSA05 = Agent(env,:SARSA);\n",
    "run_learning_lambda!(agent_SARSA05, steps=n_steps, λ = 0.5)\n",
    "@info \"agent(λ=0.5) score: $(agent_SARSA05.score)\"\n",
    "\n",
    "agent_SARSA075 = Agent(env,:SARSA);\n",
    "run_learning_lambda!(agent_SARSA075, steps=n_steps, λ = 0.75)\n",
    "@info \"agent(λ=0.75) score: $(agent_SARSA075.score)\"\n",
    "\n",
    "agent_SARSA1 = Agent(env,:SARSA);\n",
    "run_learning_lambda!(agent_SARSA1, steps=n_steps, λ = 0.1)\n",
    "@info \"agent(λ=1) score: $(agent_SARSA1.score)\""
   ]
  },
  {
   "cell_type": "code",
   "execution_count": 10,
   "id": "c1c2dc96",
   "metadata": {
    "ExecuteTime": {
     "end_time": "2023-04-12T18:39:31.300000+02:00",
     "start_time": "2023-04-12T16:38:49.760Z"
    }
   },
   "outputs": [
    {
     "data": {
      "image/png": "[encoded data removed]",
      "text/plain": [
       "Figure(PyObject <Figure size 640x480 with 1 Axes>)"
      ]
     },
     "metadata": {},
     "output_type": "display_data"
    },
    {
     "data": {
      "text/plain": [
       "PyObject Text(0.5, 24.0, 'Episode')"
      ]
     },
     "execution_count": 10,
     "metadata": {},
     "output_type": "execute_result"
    }
   ],
   "source": [
    "PyPlot.plot(agent_SARSA0.steps_per_episode[15:end], label = \"SARSA(λ=0)\")\n",
    "PyPlot.plot(agent_SARSA025.steps_per_episode[15:end], label = \"SARSA(λ=0.25)\")\n",
    "PyPlot.plot(agent_SARSA05.steps_per_episode[15:end], label = \"SARSA(λ=0.5)\")\n",
    "PyPlot.plot(agent_SARSA075.steps_per_episode[15:end], label = \"SARSA(λ=0.75)\")\n",
    "PyPlot.plot(agent_SARSA1.steps_per_episode[15:end], label = \"SARSA(λ=1)\")\n",
    "legend()\n",
    "ylabel(\"Steps per Episode\")\n",
    "xlabel(\"Episode\")"
   ]
  },
  {
   "cell_type": "code",
   "execution_count": 11,
   "id": "53ed53d6",
   "metadata": {
    "ExecuteTime": {
     "end_time": "2023-04-12T18:39:31.427000+02:00",
     "start_time": "2023-04-12T16:38:49.761Z"
    }
   },
   "outputs": [
    {
     "name": "stdout",
     "output_type": "stream",
     "text": [
      "Mean steps per episode\n",
      "SARSA(λ=0): 371.0\n",
      "SARSA(λ=0.25): 382.0\n",
      "SARSA(λ=0.5): 325.0\n",
      "SARSA(λ=0.75): 355.0\n",
      "SARSA(λ=1): 417.0\n"
     ]
    }
   ],
   "source": [
    "println(\"Mean steps per episode\")\n",
    "println(\"SARSA(λ=0): \", round(mean(agent_SARSA0.steps_per_episode)))\n",
    "println(\"SARSA(λ=0.25): \", round(mean(agent_SARSA025.steps_per_episode)))\n",
    "println(\"SARSA(λ=0.5): \", round(mean(agent_SARSA05.steps_per_episode)))\n",
    "println(\"SARSA(λ=0.75): \", round(mean(agent_SARSA075.steps_per_episode)))\n",
    "println(\"SARSA(λ=1): \", round(mean(agent_SARSA1.steps_per_episode)))"
   ]
  },
  {
   "cell_type": "code",
   "execution_count": 12,
   "id": "f830ed74",
   "metadata": {
    "ExecuteTime": {
     "end_time": "2023-04-12T18:39:31.498000+02:00",
     "start_time": "2023-04-12T16:38:49.763Z"
    }
   },
   "outputs": [
    {
     "name": "stdout",
     "output_type": "stream",
     "text": [
      "Median steps per episode\n",
      "SARSA(λ=0): 363.0\n",
      "SARSA(λ=0.25): 370.0\n",
      "SARSA(λ=0.5): 314.0\n",
      "SARSA(λ=0.75): 349.0\n",
      "SARSA(λ=1): 357.0\n"
     ]
    }
   ],
   "source": [
    "println(\"Median steps per episode\")\n",
    "println(\"SARSA(λ=0): \", round(median(agent_SARSA0.steps_per_episode)))\n",
    "println(\"SARSA(λ=0.25): \", round(median(agent_SARSA025.steps_per_episode)))\n",
    "println(\"SARSA(λ=0.5): \", round(median(agent_SARSA05.steps_per_episode)))\n",
    "println(\"SARSA(λ=0.75): \", round(median(agent_SARSA075.steps_per_episode)))\n",
    "println(\"SARSA(λ=1): \", round(median(agent_SARSA1.steps_per_episode)))"
   ]
  },
  {
   "cell_type": "markdown",
   "id": "b86cb060",
   "metadata": {},
   "source": [
    "Na podstawie powyższych wyników można stwierdzić, że dla rozważanego problemu GridWorlds najbardziej efektywnym okazał się model SARSA z współczynnikiem λ = 0.5. Świadczy o tym całkowita nagroda agenta (score), skoro mianowicie dla parametru lambda = 0.5 liczba skończonych gier (epizodów) była największą (729). Co więcej, powyższe potwierdza medialna i średnia liczba kroków per epizod. Skoro celem uczenia w tym przykładzie jest jak najszybciej możliwe wygranie, lepszym modelem jest ten, dla którego liczba kroków (średnia czy medialna) jest mniejsza, bo wtedy więcej potencjalnych kroków algorytmu pozostaje na ukończenie innych epizodów. Ostatnim wzmocnieniem tego jest wykres kroków per epizod vs liczba kroków. Widać ze wartość kroków per epizod przyjmuje najmniejsze wartości mianowicie dla λ = 0.5, zaczynając od ~ 160-go epizodu.\n",
    "\n",
    "Warto jednak zauważyć, że otrzymane wyniki mogli zostać osiągnięte przypadkowo. Np. średnia różnica (371-325)/325 = 14.15% nie jest zbyt duża i może wynikać z losowego charakteru uczenia."
   ]
  }
 ],
 "metadata": {
  "kernelspec": {
   "display_name": "Julia 1.8.2",
   "language": "julia",
   "name": "julia-1.8"
  },
  "language_info": {
   "file_extension": ".jl",
   "mimetype": "application/julia",
   "name": "julia",
   "version": "1.8.2"
  },
  "toc": {
   "base_numbering": 1,
   "nav_menu": {},
   "number_sections": true,
   "sideBar": true,
   "skip_h1_title": false,
   "title_cell": "Table of Contents",
   "title_sidebar": "Contents",
   "toc_cell": false,
   "toc_position": {},
   "toc_section_display": true,
   "toc_window_display": false
  },
  "varInspector": {
   "cols": {
    "lenName": 16,
    "lenType": 16,
    "lenVar": 40
   },
   "kernels_config": {
    "python": {
     "delete_cmd_postfix": "",
     "delete_cmd_prefix": "del ",
     "library": "var_list.py",
     "varRefreshCmd": "print(var_dic_list())"
    },
    "r": {
     "delete_cmd_postfix": ") ",
     "delete_cmd_prefix": "rm(",
     "library": "var_list.r",
     "varRefreshCmd": "cat(var_dic_list()) "
    }
   },
   "types_to_exclude": [
    "module",
    "function",
    "builtin_function_or_method",
    "instance",
    "_Feature"
   ],
   "window_display": false
  }
 },
 "nbformat": 4,
 "nbformat_minor": 5
}
